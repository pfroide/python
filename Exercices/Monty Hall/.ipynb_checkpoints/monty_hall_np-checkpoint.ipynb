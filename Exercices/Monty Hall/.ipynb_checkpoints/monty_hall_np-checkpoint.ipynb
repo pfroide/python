{
 "cells": [
  {
   "cell_type": "code",
   "execution_count": 26,
   "metadata": {
    "collapsed": true
   },
   "outputs": [],
   "source": [
    "# Pour afficher les graphiques dans la continuité du code, et non pas dans une fenêtre à part:\n",
    "%matplotlib inline\n",
    "import numpy as np\n",
    "import matplotlib.pyplot as plt"
   ]
  },
  {
   "cell_type": "code",
   "execution_count": 27,
   "metadata": {
    "collapsed": true
   },
   "outputs": [],
   "source": [
    "# Nombre de répétitions\n",
    "N = 100000"
   ]
  },
  {
   "cell_type": "markdown",
   "metadata": {},
   "source": [
    "# Sans changer de porte"
   ]
  },
  {
   "cell_type": "code",
   "execution_count": 28,
   "metadata": {},
   "outputs": [],
   "source": [
    "nb_bonne_porte = np.random.randint(1, 4, size=N)"
   ]
  },
  {
   "cell_type": "code",
   "execution_count": 29,
   "metadata": {
    "collapsed": true
   },
   "outputs": [],
   "source": [
    "nb_premier_choix = np.random.randint(1, 4, size=N)"
   ]
  },
  {
   "cell_type": "code",
   "execution_count": 30,
   "metadata": {
    "collapsed": true
   },
   "outputs": [],
   "source": [
    "# calcul du nombre de bons résultats\n",
    "resultat_sans_changer = np.sum(nb_premier_choix==nb_bonne_porte)\n",
    "\n",
    "# calcul du pourcentage \n",
    "pc_resultat_sans_changer = resultat_sans_changer/N*100"
   ]
  },
  {
   "cell_type": "code",
   "execution_count": 31,
   "metadata": {},
   "outputs": [
    {
     "name": "stdout",
     "output_type": "stream",
     "text": [
      "Sans changer de porte : 33.18\n"
     ]
    }
   ],
   "source": [
    "print(\"Sans changer de porte : %.2f\" % pc_resultat_sans_changer)"
   ]
  },
  {
   "cell_type": "markdown",
   "metadata": {},
   "source": [
    "# En changeant de porte"
   ]
  },
  {
   "cell_type": "code",
   "execution_count": 32,
   "metadata": {},
   "outputs": [],
   "source": [
    "nb_bonne_porte = np.random.randint(1, 4, size=N)\n",
    "nb_premier_choix = np.random.randint(1, 4, size=N)"
   ]
  },
  {
   "cell_type": "code",
   "execution_count": 33,
   "metadata": {},
   "outputs": [],
   "source": [
    "def suppression_porte(guesses, prizedoors):\n",
    "    return [np.setdiff1d([1, 2, 3], [prizedoors[i], guesses[i]])[0] for i in range(len(prizedoors))]\n",
    "\n",
    "nb_suppression = suppression_porte(nb_premier_choix, nb_bonne_porte)"
   ]
  },
  {
   "cell_type": "code",
   "execution_count": 34,
   "metadata": {},
   "outputs": [],
   "source": [
    "def deuxieme_choix(guesses, goatdoors):\n",
    "    return [np.setdiff1d([1, 2, 3], [guesses[i], goatdoors[i]])[0] for i in range(len(guesses))]\n",
    "\n",
    "nb_deuxieme_choix = deuxieme_choix(nb_premier_choix, nb_suppression)"
   ]
  },
  {
   "cell_type": "code",
   "execution_count": 35,
   "metadata": {
    "collapsed": true
   },
   "outputs": [],
   "source": [
    "# calcul du nombre de bons résultats\n",
    "resultat_en_changeant = np.sum(nb_deuxieme_choix==nb_bonne_porte)\n",
    "\n",
    "# calcul du pourcentage \n",
    "pc_resultat_en_changeant = resultat_en_changeant*100/N"
   ]
  },
  {
   "cell_type": "code",
   "execution_count": 36,
   "metadata": {},
   "outputs": [
    {
     "name": "stdout",
     "output_type": "stream",
     "text": [
      "En changeant de porte : 66.73\n"
     ]
    }
   ],
   "source": [
    "print(\"En changeant de porte : %.2f\" % pc_resultat_en_changeant)"
   ]
  },
  {
   "cell_type": "markdown",
   "metadata": {},
   "source": [
    "# Diagramme"
   ]
  },
  {
   "cell_type": "code",
   "execution_count": 38,
   "metadata": {},
   "outputs": [
    {
     "data": {
      "image/png": "[encoded data removed]",
      "text/plain": [
       "<matplotlib.figure.Figure at 0x154d1471860>"
      ]
     },
     "metadata": {},
     "output_type": "display_data"
    }
   ],
   "source": [
    "plot = plt.bar([1,2],[resultat_en_changeant,resultat_sans_changer], tick_label=[\"Changer\",\"Garder\"])"
   ]
  }
 ],
 "metadata": {
  "kernelspec": {
   "display_name": "Python 3",
   "language": "python",
   "name": "python3"
  },
  "language_info": {
   "codemirror_mode": {
    "name": "ipython",
    "version": 3
   },
   "file_extension": ".py",
   "mimetype": "text/x-python",
   "name": "python",
   "nbconvert_exporter": "python",
   "pygments_lexer": "ipython3",
   "version": "3.6.2"
  }
 },
 "nbformat": 4,
 "nbformat_minor": 2
}

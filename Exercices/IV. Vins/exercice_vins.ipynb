{
 "cells": [
  {
   "cell_type": "code",
   "execution_count": 1,
   "metadata": {
    "collapsed": true
   },
   "outputs": [],
   "source": [
    "import operator\n",
    "import pandas as pd\n",
    "import numpy as np\n",
    "from sklearn import model_selection\n",
    "from sklearn import preprocessing\n",
    "from sklearn import neighbors, metrics"
   ]
  },
  {
   "cell_type": "code",
   "execution_count": 2,
   "metadata": {
    "collapsed": true
   },
   "outputs": [],
   "source": [
    "_BLANC = 'winequality-white.csv'"
   ]
  },
  {
   "cell_type": "code",
   "execution_count": 3,
   "metadata": {
    "collapsed": true
   },
   "outputs": [],
   "source": [
    "# Récuparation du dataset\n",
    "data = pd.read_csv(_BLANC, sep=\";\")"
   ]
  },
  {
   "cell_type": "code",
   "execution_count": 4,
   "metadata": {
    "collapsed": true
   },
   "outputs": [],
   "source": [
    "def ma_fonction(p, nb_fold):\n",
    "    \"\"\"\n",
    "    TBD\n",
    "    \"\"\"\n",
    "\n",
    "    # Partie de découpage\n",
    "    taille_fold = int(len(data)/nb_fold)\n",
    "\n",
    "    somme = 0\n",
    "\n",
    "    for i in range(0, nb_fold):\n",
    "        # On gére d'abord les deux particuliers\n",
    "        # Pour le premier découpage\n",
    "        if i == 0:\n",
    "            data_test = data[:(i+1)*taille_fold]\n",
    "            data_train = data[(i+1)*taille_fold:]\n",
    "\n",
    "        # Pour le dernier découpage\n",
    "        elif i == (nb_fold-1):\n",
    "            data_test = data[i*taille_fold:]\n",
    "            data_train = data[:i*taille_fold]\n",
    "\n",
    "        # Cas  général : On merge les deux bouts si on a extrait au départ un bout du milieu\n",
    "        elif i != (nb_fold-1):\n",
    "            data_test = data[i*taille_fold:(i+1)*taille_fold]\n",
    "            data_train1 = data[:i*taille_fold]\n",
    "            data_train2 = data[(i+1)*taille_fold:]\n",
    "\n",
    "            frames = [data_train1, data_train2]\n",
    "            data_train = pd.concat(frames)\n",
    "\n",
    "        # Mise en forme du dataset\n",
    "        x_train = data_train.as_matrix(data_train.columns[:-1])\n",
    "        y_train = data_train.as_matrix([data_train.columns[-1]])\n",
    "\n",
    "        # Mise en forme du dataset\n",
    "        x_test = data_test.as_matrix(data_test.columns[:-1])\n",
    "        y_test = data_test.as_matrix([data_test.columns[-1]])\n",
    "        \n",
    "        # Classification en binaire\n",
    "        y_test = np.where(y_test < 6, 0, 1)\n",
    "\n",
    "        # Scale\n",
    "        std_scale = preprocessing.StandardScaler().fit(x_train)\n",
    "        x_train_std = std_scale.transform(x_train)\n",
    "        x_test_std = std_scale.transform(x_test)\n",
    "\n",
    "        # Prédictions\n",
    "        nbrs = neighbors.KNeighborsClassifier(n_neighbors=p).fit(x_train_std, y_train)\n",
    "        y_pred = nbrs.predict(x_test_std)\n",
    "\n",
    "        # Classification en binaire\n",
    "        y_pred = np.where(y_pred < 6, 0, 1)\n",
    "\n",
    "        # Cumul pour ensuite diviser et avoir la moyenne du score\n",
    "        somme = somme + metrics.accuracy_score(y_test, y_pred)\n",
    "\n",
    "    # Score\n",
    "    return somme/nb_fold"
   ]
  },
  {
   "cell_type": "code",
   "execution_count": 5,
   "metadata": {},
   "outputs": [
    {
     "name": "stderr",
     "output_type": "stream",
     "text": [
      "C:\\Users\\Toni\\Anaconda3\\lib\\site-packages\\ipykernel_launcher.py:47: DataConversionWarning: A column-vector y was passed when a 1d array was expected. Please change the shape of y to (n_samples, ), for example using ravel().\n"
     ]
    },
    {
     "name": "stdout",
     "output_type": "stream",
     "text": [
      "dict_items([(3, 0.68372315572022657), (5, 0.69862197803569459), (7, 0.70718655929301477), (9, 0.71065574623093108), (11, 0.71821572784066201), (13, 0.71821760015311353), (15, 0.72148998624890537)])\n",
      "Configuration optimale pour 15 neighbors : 0.721\n"
     ]
    }
   ],
   "source": [
    "# Fixer les valeurs des hyperparamètres à tester\n",
    "param_grid = [3, 5, 7, 9, 11, 13, 15]\n",
    "\n",
    "liste_finale = dict()\n",
    "\n",
    "for p in param_grid:\n",
    "    liste_finale[p] = (ma_fonction(p, 5))\n",
    "\n",
    "print(liste_finale.items())\n",
    "\n",
    "indicemax = max(liste_finale.items(), key=operator.itemgetter(1))[0]\n",
    "\n",
    "print('Configuration optimale pour', indicemax, 'neighbors :', round(liste_finale[indicemax], 3))"
   ]
  }
 ],
 "metadata": {
  "kernelspec": {
   "display_name": "Python 3",
   "language": "python",
   "name": "python3"
  },
  "language_info": {
   "codemirror_mode": {
    "name": "ipython",
    "version": 3
   },
   "file_extension": ".py",
   "mimetype": "text/x-python",
   "name": "python",
   "nbconvert_exporter": "python",
   "pygments_lexer": "ipython3",
   "version": "3.6.2"
  }
 },
 "nbformat": 4,
 "nbformat_minor": 2
}

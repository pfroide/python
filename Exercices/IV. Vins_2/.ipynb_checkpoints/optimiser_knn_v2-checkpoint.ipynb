{
 "cells": [
  {
   "cell_type": "code",
   "execution_count": 2,
   "metadata": {},
   "outputs": [
    {
     "name": "stdout",
     "output_type": "stream",
     "text": [
      "Populating the interactive namespace from numpy and matplotlib\n"
     ]
    }
   ],
   "source": [
    "# Imports\n",
    "import pandas as pd\n",
    "from sklearn import model_selection\n",
    "from sklearn import preprocessing\n",
    "from sklearn import neighbors\n",
    "from sklearn import metrics\n",
    "from sklearn import dummy\n",
    "%pylab inline"
   ]
  },
  {
   "cell_type": "code",
   "execution_count": 4,
   "metadata": {},
   "outputs": [],
   "source": [
    "# Fichier source\n",
    "data = pd.read_csv('winequality-red.csv', sep=\";\")\n",
    "\n",
    "X = data.as_matrix(data.columns[:-1])\n",
    "y = data.as_matrix([data.columns[-1]])\n",
    "y = y.flatten()"
   ]
  },
  {
   "cell_type": "code",
   "execution_count": 5,
   "metadata": {
    "collapsed": true
   },
   "outputs": [],
   "source": [
    "# Séparation training/testing\n",
    "X_train, X_test, y_train, y_test = model_selection.train_test_split(X, y, test_size=0.3)\n",
    "\n",
    "# Scaling\n",
    "std_scale = preprocessing.StandardScaler().fit(X_train)\n",
    "X_train_std = std_scale.transform(X_train)\n",
    "X_test_std = std_scale.transform(X_test)"
   ]
  },
  {
   "cell_type": "code",
   "execution_count": 4,
   "metadata": {
    "collapsed": true
   },
   "outputs": [],
   "source": []
  },
  {
   "cell_type": "code",
   "execution_count": null,
   "metadata": {
    "collapsed": true
   },
   "outputs": [],
   "source": []
  },
  {
   "cell_type": "code",
   "execution_count": 5,
   "metadata": {},
   "outputs": [
    {
     "ename": "NameError",
     "evalue": "name 'msq_pred' is not defined",
     "output_type": "error",
     "traceback": [
      "\u001b[1;31m---------------------------------------------------------------------------\u001b[0m",
      "\u001b[1;31mNameError\u001b[0m                                 Traceback (most recent call last)",
      "\u001b[1;32m<ipython-input-5-dbc773e88900>\u001b[0m in \u001b[0;36m<module>\u001b[1;34m()\u001b[0m\n\u001b[0;32m      1\u001b[0m \u001b[0mplt\u001b[0m\u001b[1;33m.\u001b[0m\u001b[0mfigure\u001b[0m\u001b[1;33m(\u001b[0m\u001b[1;36m1\u001b[0m\u001b[1;33m,\u001b[0m \u001b[0mfigsize\u001b[0m\u001b[1;33m=\u001b[0m\u001b[1;33m(\u001b[0m\u001b[1;36m15\u001b[0m\u001b[1;33m,\u001b[0m \u001b[1;36m9\u001b[0m\u001b[1;33m)\u001b[0m\u001b[1;33m)\u001b[0m\u001b[1;33m\u001b[0m\u001b[0m\n\u001b[1;32m----> 2\u001b[1;33m \u001b[0mplt\u001b[0m\u001b[1;33m.\u001b[0m\u001b[0mscatter\u001b[0m\u001b[1;33m(\u001b[0m\u001b[0mrange\u001b[0m\u001b[1;33m(\u001b[0m\u001b[1;36m2\u001b[0m\u001b[1;33m,\u001b[0m\u001b[0mtaille\u001b[0m\u001b[1;33m+\u001b[0m\u001b[1;36m1\u001b[0m\u001b[1;33m)\u001b[0m\u001b[1;33m,\u001b[0m \u001b[0mmsq_pred\u001b[0m\u001b[1;33m,\u001b[0m \u001b[0mcolor\u001b[0m\u001b[1;33m=\u001b[0m\u001b[1;34m'red'\u001b[0m\u001b[1;33m,\u001b[0m \u001b[0mlabel\u001b[0m\u001b[1;33m=\u001b[0m\u001b[1;34m'prediction'\u001b[0m\u001b[1;33m)\u001b[0m\u001b[1;33m\u001b[0m\u001b[0m\n\u001b[0m\u001b[0;32m      3\u001b[0m \u001b[0mplt\u001b[0m\u001b[1;33m.\u001b[0m\u001b[0mscatter\u001b[0m\u001b[1;33m(\u001b[0m\u001b[0mrange\u001b[0m\u001b[1;33m(\u001b[0m\u001b[1;36m2\u001b[0m\u001b[1;33m,\u001b[0m\u001b[0mtaille\u001b[0m\u001b[1;33m+\u001b[0m\u001b[1;36m1\u001b[0m\u001b[1;33m)\u001b[0m\u001b[1;33m,\u001b[0m \u001b[0mmsq_dum\u001b[0m\u001b[1;33m,\u001b[0m \u001b[0mcolor\u001b[0m\u001b[1;33m=\u001b[0m\u001b[1;34m'green'\u001b[0m\u001b[1;33m,\u001b[0m \u001b[0mlabel\u001b[0m\u001b[1;33m=\u001b[0m\u001b[1;34m'dum'\u001b[0m\u001b[1;33m)\u001b[0m\u001b[1;33m\u001b[0m\u001b[0m\n\u001b[0;32m      4\u001b[0m \u001b[1;31m#plt.scatter(range(2,taille+1), msq_random, color='blue', label='random')\u001b[0m\u001b[1;33m\u001b[0m\u001b[1;33m\u001b[0m\u001b[0m\n\u001b[0;32m      5\u001b[0m \u001b[0mplt\u001b[0m\u001b[1;33m.\u001b[0m\u001b[0mlegend\u001b[0m\u001b[1;33m(\u001b[0m\u001b[1;33m)\u001b[0m\u001b[1;33m\u001b[0m\u001b[0m\n",
      "\u001b[1;31mNameError\u001b[0m: name 'msq_pred' is not defined"
     ]
    },
    {
     "data": {
      "text/plain": [
       "<matplotlib.figure.Figure at 0x25c273bd470>"
      ]
     },
     "metadata": {},
     "output_type": "display_data"
    }
   ],
   "source": [
    "plt.figure(1, figsize=(15, 9))\n",
    "plt.scatter(range(2,taille+1), msq_pred, color='red', label='prediction')\n",
    "plt.scatter(range(2,taille+1), msq_dum, color='green', label='dum')\n",
    "#plt.scatter(range(2,taille+1), msq_random, color='blue', label='random')\n",
    "plt.legend()\n",
    "plt.grid('on')"
   ]
  },
  {
   "cell_type": "code",
   "execution_count": null,
   "metadata": {
    "collapsed": true
   },
   "outputs": [],
   "source": [
    "plt.figure(1, figsize=(15, 9))\n",
    "plt.scatter(range(2,taille+1), r2_pred, color='red', label='prediction')\n",
    "plt.scatter(range(2,taille+1), r2_dum, color='green', label='dum')\n",
    "#plt.scatter(range(2,taille+1), r2_random, color='blue', label='random')\n",
    "plt.legend()\n",
    "plt.grid('on')"
   ]
  },
  {
   "cell_type": "code",
   "execution_count": 19,
   "metadata": {},
   "outputs": [
    {
     "name": "stdout",
     "output_type": "stream",
     "text": [
      "Meilleur(s) hyperparamètre(s) sur le jeu d'entraînement: {'n_neighbors': 15}\n",
      "Résultats de la validation croisée :\n",
      "\t{'r2', 'neg_mean_squared_error'} = 0.075 (+/-0.192) for 'mean_fit_time'\n",
      "\t{'r2', 'neg_mean_squared_error'} = 0.094 (+/-0.159) for 'std_fit_time'\n",
      "\t{'r2', 'neg_mean_squared_error'} = 0.153 (+/-0.070) for 'mean_score_time'\n",
      "\t{'r2', 'neg_mean_squared_error'} = 0.138 (+/-0.114) for 'std_score_time'\n",
      "\t{'r2', 'neg_mean_squared_error'} = 0.132 (+/-0.172) for 'param_n_neighbors'\n",
      "\t{'r2', 'neg_mean_squared_error'} = 0.163 (+/-0.159) for 'params'\n",
      "\t{'r2', 'neg_mean_squared_error'} = 0.160 (+/-0.132) for 'split0_test_r2'\n",
      "\t{'r2', 'neg_mean_squared_error'} = 0.155 (+/-0.170) for 'split1_test_r2'\n",
      "\t{'r2', 'neg_mean_squared_error'} = 0.150 (+/-0.187) for 'split2_test_r2'\n",
      "\t{'r2', 'neg_mean_squared_error'} = 0.136 (+/-0.139) for 'split3_test_r2'\n",
      "\t{'r2', 'neg_mean_squared_error'} = 0.143 (+/-0.128) for 'split4_test_r2'\n",
      "\t{'r2', 'neg_mean_squared_error'} = 0.151 (+/-0.144) for 'mean_test_r2'\n",
      "\t{'r2', 'neg_mean_squared_error'} = 0.159 (+/-0.114) for 'std_test_r2'\n"
     ]
    },
    {
     "data": {
      "image/png": "[encoded data removed]",
      "text/plain": [
       "<matplotlib.figure.Figure at 0x29894bdd0f0>"
      ]
     },
     "metadata": {},
     "output_type": "display_data"
    }
   ],
   "source": [
    "bande_passante = range(5,30,2)\n",
    "\n",
    "# Fixer les valeurs des hyperparamètres à tester\n",
    "param_grid = {'n_neighbors':bande_passante}\n",
    "\n",
    "# Choisir un score à optimiser\n",
    "#score = {'neg_mean_squared_error'}\n",
    "score = {'neg_mean_squared_error','r2'}\n",
    "\n",
    "# Créer un classifieur kNN avec recherche d'hyperparamètre par validation croisée\n",
    "# un classifieur kNN\n",
    "# hyperparamètres à tester\n",
    "# nombre de folds de validation croisée\n",
    "# score à optimiser\n",
    "clf = model_selection.GridSearchCV(neighbors.KNeighborsClassifier(),param_grid, cv=5, scoring=score, refit='neg_mean_squared_error', return_train_score=False)\n",
    "\n",
    "# Optimiser ce classifieur sur le jeu d'entraînement\n",
    "# clf.fit(X_train, y_train)\n",
    "clf.fit(X_train_std, y_train)\n",
    "\n",
    "# Afficher le(s) hyperparamètre(s) optimaux\n",
    "print(\"Meilleur(s) hyperparamètre(s) sur le jeu d'entraînement:\", clf.best_params_)\n",
    "\n",
    "# Afficher les performances correspondantes\n",
    "print(\"Résultats de la validation croisée :\")\n",
    "results = clf.cv_results_\n",
    "\n",
    "# Get the regular numpy array from the MaskedArray\n",
    "#X_axis = np.array(results['param_min_samples_split'].data, dtype=float)\n",
    "X_axis = bande_passante\n",
    "\n",
    "# score moyen\n",
    "# écart-type du score\n",
    "# valeur de l'hyperparamètre\n",
    "for scorer, color in zip(sorted(score), ['g', 'k', 'b']):\n",
    "    for sample, style in (('train', '--'), ('test', '-')):\n",
    "        \n",
    "        if sample != 'train':\n",
    "            sample_score_mean = results['mean_%s_%s' % (sample, scorer)]\n",
    "            sample_score_std = results['std_%s_%s' % (sample, scorer)]\n",
    "\n",
    "            #print('mean_%s_%s' % (sample, scorer))\n",
    "            #print(sample_score_mean)\n",
    "            #print('std_%s_%s' % (sample, scorer))\n",
    "            #print(sample_score_std)\n",
    "\n",
    "            plt.figure(1, figsize=(15, 9))\n",
    "            plt.fill_between(X_axis, sample_score_mean - sample_score_std, sample_score_mean + sample_score_std, alpha=0.1 if sample == 'test' else 0, color=color)\n",
    "\n",
    "            plt.plot(X_axis, sample_score_mean, style, color=color, alpha=1 if sample == 'test' else 0.7, label=\"%s (%s)\" % (scorer, sample))\n",
    "\n",
    "            best_index = np.nonzero(results['rank_test_%s' % scorer] == 1)[0][0]\n",
    "            best_score = results['mean_test_%s' % scorer][best_index]\n",
    "\n",
    "            # Plot a dotted vertical line at the best score for that scorer marked by x\n",
    "            plt.plot([X_axis[best_index], ] * 2, [0, best_score], linestyle='-.', color=color, marker='x', markeredgewidth=3, ms=8)\n",
    "\n",
    "            # Annotate the best score for that scorer\n",
    "            plt.annotate(\"%0.2f\" % best_score,(X_axis[best_index], best_score + 0.005))\n",
    "\n",
    "            # Légendes\n",
    "            plt.legend()\n",
    "        \n",
    "for mean, std, params in zip(sample_score_mean, sample_score_std,  results):\n",
    "         print(\"\\t%s = %0.3f (+/-%0.03f) for %r\" % (score, mean, std * 2, params))"
   ]
  },
  {
   "cell_type": "code",
   "execution_count": 7,
   "metadata": {},
   "outputs": [
    {
     "data": {
      "text/plain": [
       "dict_keys(['mean_fit_time', 'std_fit_time', 'mean_score_time', 'std_score_time', 'param_n_neighbors', 'params', 'split0_test_neg_mean_squared_error', 'split1_test_neg_mean_squared_error', 'split2_test_neg_mean_squared_error', 'split3_test_neg_mean_squared_error', 'split4_test_neg_mean_squared_error', 'mean_test_neg_mean_squared_error', 'std_test_neg_mean_squared_error', 'rank_test_neg_mean_squared_error'])"
      ]
     },
     "execution_count": 7,
     "metadata": {},
     "output_type": "execute_result"
    }
   ],
   "source": [
    "results.keys()"
   ]
  },
  {
   "cell_type": "code",
   "execution_count": null,
   "metadata": {},
   "outputs": [],
   "source": []
  },
  {
   "cell_type": "code",
   "execution_count": null,
   "metadata": {
    "collapsed": true
   },
   "outputs": [],
   "source": []
  },
  {
   "cell_type": "code",
   "execution_count": null,
   "metadata": {
    "collapsed": true
   },
   "outputs": [],
   "source": []
  },
  {
   "cell_type": "code",
   "execution_count": null,
   "metadata": {
    "collapsed": true
   },
   "outputs": [],
   "source": []
  }
 ],
 "metadata": {
  "kernelspec": {
   "display_name": "Python 3",
   "language": "python",
   "name": "python3"
  },
  "language_info": {
   "codemirror_mode": {
    "name": "ipython",
    "version": 3
   },
   "file_extension": ".py",
   "mimetype": "text/x-python",
   "name": "python",
   "nbconvert_exporter": "python",
   "pygments_lexer": "ipython3",
   "version": "3.6.2"
  }
 },
 "nbformat": 4,
 "nbformat_minor": 2
}

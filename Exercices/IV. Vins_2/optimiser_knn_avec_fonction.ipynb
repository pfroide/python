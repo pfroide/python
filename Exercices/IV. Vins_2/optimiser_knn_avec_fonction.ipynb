{
 "cells": [
  {
   "cell_type": "code",
   "execution_count": 238,
   "metadata": {},
   "outputs": [],
   "source": [
    "# Imports\n",
    "import pandas as pd\n",
    "from sklearn import model_selection\n",
    "from sklearn.model_selection import GridSearchCV\n",
    "from sklearn import preprocessing\n",
    "from sklearn import neighbors\n",
    "from sklearn import metrics\n",
    "from sklearn import dummy\n",
    "from sklearn.metrics import r2_score, mean_squared_error, make_scorer"
   ]
  },
  {
   "cell_type": "code",
   "execution_count": 239,
   "metadata": {
    "collapsed": true
   },
   "outputs": [],
   "source": [
    "# Fichier source\n",
    "data = pd.read_csv('winequality-red.csv', sep=\";\")\n",
    "\n",
    "X = data.as_matrix(data.columns[:-1])\n",
    "y = data.as_matrix([data.columns[-1]])\n",
    "y = y.flatten()"
   ]
  },
  {
   "cell_type": "code",
   "execution_count": 240,
   "metadata": {
    "collapsed": true
   },
   "outputs": [],
   "source": [
    "# Séparation training/testing\n",
    "X_train, X_test, y_train, y_test = model_selection.train_test_split(X, y, test_size=0.3)\n",
    "\n",
    "# Scaling\n",
    "std_scale = preprocessing.StandardScaler().fit(X_train)\n",
    "X_train_std = std_scale.transform(X_train)\n",
    "X_test_std = std_scale.transform(X_test)"
   ]
  },
  {
   "cell_type": "code",
   "execution_count": 241,
   "metadata": {},
   "outputs": [],
   "source": [
    "def MSE(y_true,y_pred):\n",
    "    mse = mean_squared_error(y_true, y_pred)\n",
    "    #print('MSE: %2.3f' % mse)\n",
    "    return mse\n",
    "\n",
    "def R2(y_true,y_pred):    \n",
    "     r2 = r2_score(y_true, y_pred)\n",
    "     #print('R2: %2.3f' % r2)\n",
    "     return r2\n",
    "\n",
    "def two_score(y_true,y_pred):    \n",
    "    #set score here and not below if using MSE in GridCV\n",
    "    score = MSE(y_true,y_pred)\n",
    "    R2(y_true,y_pred)\n",
    "    return score\n",
    "\n",
    "def two_scorer():\n",
    "    # greater_is_better=False pour le MSE\n",
    "    # greater_is_better=True pour le R2\n",
    "    return make_scorer(two_score, greater_is_better=False)"
   ]
  },
  {
   "cell_type": "code",
   "execution_count": 296,
   "metadata": {
    "collapsed": true
   },
   "outputs": [],
   "source": [
    "model = neighbors.KNeighborsClassifier()\n",
    "axe_X = range(3,30)\n",
    "param_grid = {'n_neighbors':axe_X }"
   ]
  },
  {
   "cell_type": "code",
   "execution_count": 297,
   "metadata": {},
   "outputs": [
    {
     "name": "stdout",
     "output_type": "stream",
     "text": [
      "\t\tGRIDSCORES\t MSE -0.970509383378 pour {'n_neighbors': 3}\n",
      "\t\tGRIDSCORES\t MSE -0.845397676497 pour {'n_neighbors': 4}\n",
      "\t\tGRIDSCORES\t MSE -0.828418230563 pour {'n_neighbors': 5}\n",
      "\t\tGRIDSCORES\t MSE -0.823949955317 pour {'n_neighbors': 6}\n",
      "\t\tGRIDSCORES\t MSE -0.815013404826 pour {'n_neighbors': 7}\n",
      "\t\tGRIDSCORES\t MSE -0.794459338695 pour {'n_neighbors': 8}\n",
      "\t\tGRIDSCORES\t MSE -0.7890974084 pour {'n_neighbors': 9}\n",
      "\t\tGRIDSCORES\t MSE -0.758713136729 pour {'n_neighbors': 10}\n",
      "\t\tGRIDSCORES\t MSE -0.741733690795 pour {'n_neighbors': 11}\n",
      "\t\tGRIDSCORES\t MSE -0.729222520107 pour {'n_neighbors': 12}\n",
      "\t\tGRIDSCORES\t MSE -0.755138516533 pour {'n_neighbors': 13}\n",
      "\t\tGRIDSCORES\t MSE -0.728328865058 pour {'n_neighbors': 14}\n",
      "\t\tGRIDSCORES\t MSE -0.72654155496 pour {'n_neighbors': 15}\n",
      "\t\tGRIDSCORES\t MSE -0.731903485255 pour {'n_neighbors': 16}\n",
      "\t\tGRIDSCORES\t MSE -0.739946380697 pour {'n_neighbors': 17}\n",
      "\t\tGRIDSCORES\t MSE -0.725647899911 pour {'n_neighbors': 18}\n",
      "\t\tGRIDSCORES\t MSE -0.70509383378 pour {'n_neighbors': 19}\n",
      "\t\tGRIDSCORES\t MSE -0.71581769437 pour {'n_neighbors': 20}\n",
      "\t\tGRIDSCORES\t MSE -0.742627345845 pour {'n_neighbors': 21}\n",
      "\t\tGRIDSCORES\t MSE -0.727435210009 pour {'n_neighbors': 22}\n",
      "\t\tGRIDSCORES\t MSE -0.739946380697 pour {'n_neighbors': 23}\n",
      "\t\tGRIDSCORES\t MSE -0.740840035746 pour {'n_neighbors': 24}\n",
      "\t\tGRIDSCORES\t MSE -0.739946380697 pour {'n_neighbors': 25}\n",
      "\t\tGRIDSCORES\t MSE -0.746201966041 pour {'n_neighbors': 26}\n",
      "\t\tGRIDSCORES\t MSE -0.742627345845 pour {'n_neighbors': 27}\n",
      "\t\tGRIDSCORES\t MSE -0.724754244861 pour {'n_neighbors': 28}\n",
      "\t\tGRIDSCORES\t MSE -0.72654155496 pour {'n_neighbors': 29}\n",
      "\n",
      "\t\t{'n_neighbors': 19}\t0.705094\n"
     ]
    }
   ],
   "source": [
    "score = 'neg_mean_squared_error'\n",
    "\n",
    "clf = model_selection.GridSearchCV(model, param_grid, cv=6, scoring=score, refit=True)\n",
    "\n",
    "clf.fit(X_train, y_train)\n",
    "best_params = clf.best_params_\n",
    "score = clf.best_score_\n",
    "\n",
    "score_MSE = []\n",
    "\n",
    "for a, c in zip(clf.cv_results_['mean_test_score'], clf.cv_results_['params']):\n",
    "    print(\"\\t%s %s %s pour %s\" % ('\\tGRIDSCORES\\t',  \"MSE\" , a, c))\n",
    "    score_MSE.append(abs(a))\n",
    "\n",
    "print('\\n\\t\\t%s\\t%f' % (str(best_params), abs(score)))"
   ]
  },
  {
   "cell_type": "code",
   "execution_count": 298,
   "metadata": {},
   "outputs": [
    {
     "name": "stdout",
     "output_type": "stream",
     "text": [
      "\t\tGRIDSCORES\t R2 -0.483491441463 pour {'n_neighbors': 3}\n",
      "\t\tGRIDSCORES\t R2 -0.292069001479 pour {'n_neighbors': 4}\n",
      "\t\tGRIDSCORES\t R2 -0.265914906306 pour {'n_neighbors': 5}\n",
      "\t\tGRIDSCORES\t R2 -0.257933586499 pour {'n_neighbors': 6}\n",
      "\t\tGRIDSCORES\t R2 -0.2454667587 pour {'n_neighbors': 7}\n",
      "\t\tGRIDSCORES\t R2 -0.212518517621 pour {'n_neighbors': 8}\n",
      "\t\tGRIDSCORES\t R2 -0.205325616366 pour {'n_neighbors': 9}\n",
      "\t\tGRIDSCORES\t R2 -0.158634813864 pour {'n_neighbors': 10}\n",
      "\t\tGRIDSCORES\t R2 -0.13264503212 pour {'n_neighbors': 11}\n",
      "\t\tGRIDSCORES\t R2 -0.113640091233 pour {'n_neighbors': 12}\n",
      "\t\tGRIDSCORES\t R2 -0.153174999789 pour {'n_neighbors': 13}\n",
      "\t\tGRIDSCORES\t R2 -0.111440571348 pour {'n_neighbors': 14}\n",
      "\t\tGRIDSCORES\t R2 -0.109380984378 pour {'n_neighbors': 15}\n",
      "\t\tGRIDSCORES\t R2 -0.118001713142 pour {'n_neighbors': 16}\n",
      "\t\tGRIDSCORES\t R2 -0.130566877229 pour {'n_neighbors': 17}\n",
      "\t\tGRIDSCORES\t R2 -0.107935696079 pour {'n_neighbors': 18}\n",
      "\t\tGRIDSCORES\t R2 -0.075908961544 pour {'n_neighbors': 19}\n",
      "\t\tGRIDSCORES\t R2 -0.0919373502779 pour {'n_neighbors': 20}\n",
      "\t\tGRIDSCORES\t R2 -0.133814741924 pour {'n_neighbors': 21}\n",
      "\t\tGRIDSCORES\t R2 -0.109817561527 pour {'n_neighbors': 22}\n",
      "\t\tGRIDSCORES\t R2 -0.129645774625 pour {'n_neighbors': 23}\n",
      "\t\tGRIDSCORES\t R2 -0.130033512899 pour {'n_neighbors': 24}\n",
      "\t\tGRIDSCORES\t R2 -0.129325018667 pour {'n_neighbors': 25}\n",
      "\t\tGRIDSCORES\t R2 -0.137650969052 pour {'n_neighbors': 26}\n",
      "\t\tGRIDSCORES\t R2 -0.133067977301 pour {'n_neighbors': 27}\n",
      "\t\tGRIDSCORES\t R2 -0.105202716522 pour {'n_neighbors': 28}\n",
      "\t\tGRIDSCORES\t R2 -0.108103990978 pour {'n_neighbors': 29}\n",
      "\n",
      "\t\t{'n_neighbors': 19}\t0.075909\n"
     ]
    }
   ],
   "source": [
    "score = 'r2'\n",
    "\n",
    "clf2 = model_selection.GridSearchCV(model, param_grid, cv=6, scoring=score, refit=True)\n",
    "\n",
    "clf2.fit(X_train, y_train)\n",
    "best_params = clf2.best_params_\n",
    "score = clf2.best_score_\n",
    "\n",
    "score_r2 = []\n",
    "\n",
    "for a, c in zip(clf2.cv_results_['mean_test_score'], clf2.cv_results_['params']):\n",
    "    print(\"\\t%s %s %s pour %s\" % ('\\tGRIDSCORES\\t',  \"R2\" , a, c))\n",
    "    score_r2.append(abs(a))\n",
    "\n",
    "print('\\n\\t\\t%s\\t%f' % (str(best_params), abs(score)))"
   ]
  },
  {
   "cell_type": "code",
   "execution_count": 299,
   "metadata": {},
   "outputs": [
    {
     "data": {
      "image/png": "[encoded data removed]",
      "text/plain": [
       "<matplotlib.figure.Figure at 0x19cd2f85c18>"
      ]
     },
     "metadata": {},
     "output_type": "display_data"
    }
   ],
   "source": [
    "plt.figure(1, figsize=(15, 9))\n",
    "            \n",
    "plt.plot(axe_X, score_r2, label=\"R2\", color='b')\n",
    "plt.plot(axe_X, score_MSE, label=\"MSE\", color='g')\n",
    "\n",
    "plt.title(\"Grid Search Scores\", fontsize=20, fontweight='bold')\n",
    "plt.xlabel(name_param_1, fontsize=16)\n",
    "plt.ylabel('CV Average Score', fontsize=16)\n",
    "plt.legend(loc=\"best\", fontsize=15)\n",
    "plt.grid('on')\n",
    "plt.show()"
   ]
  },
  {
   "cell_type": "code",
   "execution_count": 313,
   "metadata": {},
   "outputs": [
    {
     "name": "stdout",
     "output_type": "stream",
     "text": [
      "MSE : 3.06\n"
     ]
    }
   ],
   "source": [
    "# Prédiction aléatoire\n",
    "y_pred_random = np.random.randint(np.min(y), np.max(y), len(X_test))\n",
    "\n",
    "print(\"MSE : %.2f\" % metrics.mean_squared_error(y_test, y_pred_random))"
   ]
  },
  {
   "cell_type": "code",
   "execution_count": 312,
   "metadata": {},
   "outputs": [
    {
     "name": "stdout",
     "output_type": "stream",
     "text": [
      "MSE : 0.64\n"
     ]
    }
   ],
   "source": [
    "# Prédiction suivant la valeur moyenne\n",
    "dum = dummy.DummyRegressor(strategy='mean')\n",
    "dum.fit(X_train_std, y_train)\n",
    "y_pred_dum = dum.predict(X_test)\n",
    "\n",
    "print(\"MSE : %.2f\" % metrics.mean_squared_error(y_test, y_pred_dum))"
   ]
  },
  {
   "cell_type": "code",
   "execution_count": 311,
   "metadata": {},
   "outputs": [
    {
     "name": "stdout",
     "output_type": "stream",
     "text": [
      "MSE : 0.76\n"
     ]
    }
   ],
   "source": [
    "y_pred = clf.predict(X_test)\n",
    "\n",
    "print(\"MSE : %.2f\" % metrics.mean_squared_error(y_test, y_pred))"
   ]
  },
  {
   "cell_type": "code",
   "execution_count": 307,
   "metadata": {},
   "outputs": [
    {
     "data": {
      "text/plain": [
       "{'n_neighbors': 19}"
      ]
     },
     "execution_count": 307,
     "metadata": {},
     "output_type": "execute_result"
    }
   ],
   "source": [
    "grid.cv_results_['params'][grid.best_index_]"
   ]
  },
  {
   "cell_type": "code",
   "execution_count": 308,
   "metadata": {},
   "outputs": [
    {
     "data": {
      "text/plain": [
       "array([6, 6, 5, 6, 7, 6, 6, 5, 6, 6, 6, 6, 5, 6, 5, 6, 5, 7, 6, 6, 6, 6, 6,\n",
       "       6, 5, 5, 6, 6, 6, 6, 5, 5, 5, 5, 5, 6, 6, 6, 5, 6, 6, 5, 5, 5, 5, 5,\n",
       "       5, 5, 5, 5, 5, 6, 5, 6, 5, 6, 5, 6, 5, 6, 5, 5, 6, 6, 5, 6, 5, 5, 7,\n",
       "       5, 6, 6, 7, 7, 7, 6, 6, 6, 5, 5, 5, 5, 5, 5, 5, 6, 6, 7, 6, 5, 6, 6,\n",
       "       5, 5, 6, 6, 5, 5, 5, 6, 5, 5, 5, 6, 5, 5, 5, 6, 5, 6, 6, 5, 5, 6, 5,\n",
       "       6, 6, 6, 6, 5, 5, 5, 5, 6, 5, 6, 5, 6, 7, 5, 7, 5, 5, 5, 5, 6, 5, 6,\n",
       "       5, 6, 5, 6, 6, 5, 6, 5, 5, 5, 6, 6, 5, 6, 5, 6, 5, 5, 6, 6, 5, 5, 6,\n",
       "       5, 5, 5, 5, 6, 6, 6, 6, 6, 5, 7, 6, 5, 5, 6, 6, 5, 5, 5, 5, 5, 6, 6,\n",
       "       6, 6, 7, 6, 6, 6, 5, 6, 5, 5, 5, 6, 6, 5, 5, 6, 6, 5, 5, 5, 6, 5, 5,\n",
       "       5, 6, 6, 5, 5, 7, 5, 5, 6, 6, 5, 6, 6, 5, 5, 6, 5, 6, 6, 5, 6, 6, 5,\n",
       "       5, 7, 7, 6, 6, 6, 5, 5, 5, 6, 6, 6, 6, 5, 6, 5, 5, 5, 5, 6, 6, 5, 5,\n",
       "       7, 6, 5, 6, 5, 5, 5, 5, 5, 5, 5, 7, 6, 5, 5, 6, 5, 6, 6, 5, 5, 6, 6,\n",
       "       5, 6, 5, 6, 5, 5, 6, 5, 6, 5, 6, 6, 6, 6, 5, 6, 5, 5, 6, 5, 5, 5, 6,\n",
       "       6, 6, 5, 6, 5, 6, 5, 6, 6, 5, 5, 5, 5, 5, 6, 6, 5, 6, 6, 6, 6, 5, 6,\n",
       "       5, 6, 5, 6, 6, 5, 6, 5, 5, 5, 6, 5, 7, 7, 6, 6, 6, 5, 5, 5, 7, 6, 6,\n",
       "       6, 6, 5, 5, 5, 6, 6, 5, 5, 6, 6, 5, 6, 5, 5, 6, 6, 6, 6, 5, 5, 5, 6,\n",
       "       7, 5, 5, 5, 6, 5, 6, 6, 6, 6, 5, 5, 6, 5, 5, 5, 6, 5, 5, 5, 6, 5, 6,\n",
       "       5, 6, 5, 5, 6, 5, 6, 5, 6, 6, 6, 5, 6, 6, 5, 5, 6, 6, 6, 6, 5, 6, 6,\n",
       "       6, 6, 6, 6, 5, 5, 5, 5, 5, 6, 5, 5, 6, 6, 5, 5, 6, 6, 5, 6, 6, 6, 6,\n",
       "       5, 5, 5, 5, 6, 6, 6, 5, 5, 5, 5, 6, 7, 5, 5, 5, 6, 6, 5, 7, 5, 6, 5,\n",
       "       6, 6, 5, 6, 6, 5, 5, 5, 6, 6, 5, 5, 6, 5, 5, 5, 6, 6, 5, 6], dtype=int64)"
      ]
     },
     "execution_count": 308,
     "metadata": {},
     "output_type": "execute_result"
    }
   ],
   "source": [
    "y_pred"
   ]
  }
 ],
 "metadata": {
  "kernelspec": {
   "display_name": "Python 3",
   "language": "python",
   "name": "python3"
  },
  "language_info": {
   "codemirror_mode": {
    "name": "ipython",
    "version": 3
   },
   "file_extension": ".py",
   "mimetype": "text/x-python",
   "name": "python",
   "nbconvert_exporter": "python",
   "pygments_lexer": "ipython3",
   "version": "3.6.2"
  }
 },
 "nbformat": 4,
 "nbformat_minor": 2
}

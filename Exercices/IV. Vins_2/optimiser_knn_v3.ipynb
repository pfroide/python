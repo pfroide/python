{
 "cells": [
  {
   "cell_type": "markdown",
   "metadata": {},
   "source": [
    "# Imports et préparation des données"
   ]
  },
  {
   "cell_type": "code",
   "execution_count": 335,
   "metadata": {},
   "outputs": [],
   "source": [
    "# Imports\n",
    "import pandas as pd\n",
    "from sklearn import model_selection\n",
    "from sklearn.model_selection import GridSearchCV\n",
    "from sklearn import preprocessing\n",
    "from sklearn import neighbors\n",
    "from sklearn import metrics\n",
    "from sklearn import dummy\n",
    "from sklearn.metrics import r2_score, mean_squared_error, make_scorer"
   ]
  },
  {
   "cell_type": "code",
   "execution_count": 336,
   "metadata": {
    "collapsed": true
   },
   "outputs": [],
   "source": [
    "# Fichier source\n",
    "data = pd.read_csv('winequality-red.csv', sep=\";\")\n",
    "\n",
    "X = data.as_matrix(data.columns[:-1])\n",
    "y = data.as_matrix([data.columns[-1]])\n",
    "y = y.flatten()"
   ]
  },
  {
   "cell_type": "code",
   "execution_count": 337,
   "metadata": {
    "collapsed": true
   },
   "outputs": [],
   "source": [
    "# Séparation training/testing\n",
    "X_train, X_test, y_train, y_test = model_selection.train_test_split(X, y, test_size=0.3)\n",
    "\n",
    "# Scaling\n",
    "std_scale = preprocessing.StandardScaler().fit(X_train)\n",
    "X_train_std = std_scale.transform(X_train)\n",
    "X_test_std = std_scale.transform(X_test)"
   ]
  },
  {
   "cell_type": "code",
   "execution_count": 338,
   "metadata": {
    "collapsed": true
   },
   "outputs": [],
   "source": [
    "# Modèle à utiliser = KNeighborsRegressor()\n",
    "model = neighbors.KNeighborsRegressor()\n",
    "\n",
    "# Toutes les valeurs à tester\n",
    "axe_X = range(3,30)\n",
    "param_grid = {'n_neighbors':axe_X }"
   ]
  },
  {
   "cell_type": "markdown",
   "metadata": {},
   "source": [
    "# Test pour l'optimisation du MSE"
   ]
  },
  {
   "cell_type": "code",
   "execution_count": 339,
   "metadata": {},
   "outputs": [
    {
     "name": "stdout",
     "output_type": "stream",
     "text": [
      "\t\tGRIDSCORES\t MSE -0.633104954821 pour {'n_neighbors': 3}\n",
      "\t\tGRIDSCORES\t MSE -0.611930294906 pour {'n_neighbors': 4}\n",
      "\t\tGRIDSCORES\t MSE -0.59345844504 pour {'n_neighbors': 5}\n",
      "\t\tGRIDSCORES\t MSE -0.588893853639 pour {'n_neighbors': 6}\n",
      "\t\tGRIDSCORES\t MSE -0.585417008627 pour {'n_neighbors': 7}\n",
      "\t\tGRIDSCORES\t MSE -0.587061550492 pour {'n_neighbors': 8}\n",
      "\t\tGRIDSCORES\t MSE -0.583722238771 pour {'n_neighbors': 9}\n",
      "\t\tGRIDSCORES\t MSE -0.581849865952 pour {'n_neighbors': 10}\n",
      "\t\tGRIDSCORES\t MSE -0.580499117423 pour {'n_neighbors': 11}\n",
      "\t\tGRIDSCORES\t MSE -0.584760699037 pour {'n_neighbors': 12}\n",
      "\t\tGRIDSCORES\t MSE -0.582816441138 pour {'n_neighbors': 13}\n",
      "\t\tGRIDSCORES\t MSE -0.584067407124 pour {'n_neighbors': 14}\n",
      "\t\tGRIDSCORES\t MSE -0.580077450104 pour {'n_neighbors': 15}\n",
      "\t\tGRIDSCORES\t MSE -0.577035857909 pour {'n_neighbors': 16}\n",
      "\t\tGRIDSCORES\t MSE -0.577795918872 pour {'n_neighbors': 17}\n",
      "\t\tGRIDSCORES\t MSE -0.580031774402 pour {'n_neighbors': 18}\n",
      "\t\tGRIDSCORES\t MSE -0.580539114118 pour {'n_neighbors': 19}\n",
      "\t\tGRIDSCORES\t MSE -0.581749329759 pour {'n_neighbors': 20}\n",
      "\t\tGRIDSCORES\t MSE -0.583285205652 pour {'n_neighbors': 21}\n",
      "\t\tGRIDSCORES\t MSE -0.582642781704 pour {'n_neighbors': 22}\n",
      "\t\tGRIDSCORES\t MSE -0.583016161811 pour {'n_neighbors': 23}\n",
      "\t\tGRIDSCORES\t MSE -0.583786366796 pour {'n_neighbors': 24}\n",
      "\t\tGRIDSCORES\t MSE -0.585263985702 pour {'n_neighbors': 25}\n",
      "\t\tGRIDSCORES\t MSE -0.586792941711 pour {'n_neighbors': 26}\n",
      "\t\tGRIDSCORES\t MSE -0.587821528873 pour {'n_neighbors': 27}\n",
      "\t\tGRIDSCORES\t MSE -0.589551303095 pour {'n_neighbors': 28}\n",
      "\t\tGRIDSCORES\t MSE -0.588546763874 pour {'n_neighbors': 29}\n",
      "\n",
      "\t\t{'n_neighbors': 16}\t0.577036\n"
     ]
    }
   ],
   "source": [
    "score = 'neg_mean_squared_error'\n",
    "\n",
    "clf = model_selection.GridSearchCV(model, param_grid, cv=6, scoring=score, refit=True)\n",
    "\n",
    "clf.fit(X_train, y_train)\n",
    "best_params = clf.best_params_\n",
    "score = clf.best_score_\n",
    "\n",
    "score_MSE = []\n",
    "\n",
    "for a, c in zip(clf.cv_results_['mean_test_score'], clf.cv_results_['params']):\n",
    "    print(\"\\t%s %s %s pour %s\" % ('\\tGRIDSCORES\\t',  \"MSE\" , a, c))\n",
    "    score_MSE.append(abs(a))\n",
    "\n",
    "print('\\n\\t\\t%s\\t%f' % (str(best_params), abs(score)))"
   ]
  },
  {
   "cell_type": "markdown",
   "metadata": {},
   "source": [
    "Le meilleur résultat est obtenu pour 16 voisins. C'est avec ce paramètre que sera effectué le test final un peu plus bas."
   ]
  },
  {
   "cell_type": "markdown",
   "metadata": {},
   "source": [
    "# Test pour l'optimisation du r2, pour pouvoir comparer les valeurs uniquement"
   ]
  },
  {
   "cell_type": "code",
   "execution_count": 340,
   "metadata": {},
   "outputs": [
    {
     "name": "stdout",
     "output_type": "stream",
     "text": [
      "\t\tGRIDSCORES\t R2 0.0325447733716 pour {'n_neighbors': 3}\n",
      "\t\tGRIDSCORES\t R2 0.0646734679743 pour {'n_neighbors': 4}\n",
      "\t\tGRIDSCORES\t R2 0.0961990906233 pour {'n_neighbors': 5}\n",
      "\t\tGRIDSCORES\t R2 0.105831606019 pour {'n_neighbors': 6}\n",
      "\t\tGRIDSCORES\t R2 0.110204558322 pour {'n_neighbors': 7}\n",
      "\t\tGRIDSCORES\t R2 0.108857174054 pour {'n_neighbors': 8}\n",
      "\t\tGRIDSCORES\t R2 0.115516986598 pour {'n_neighbors': 9}\n",
      "\t\tGRIDSCORES\t R2 0.11715448154 pour {'n_neighbors': 10}\n",
      "\t\tGRIDSCORES\t R2 0.120645120929 pour {'n_neighbors': 11}\n",
      "\t\tGRIDSCORES\t R2 0.115048505275 pour {'n_neighbors': 12}\n",
      "\t\tGRIDSCORES\t R2 0.118196718844 pour {'n_neighbors': 13}\n",
      "\t\tGRIDSCORES\t R2 0.116452595688 pour {'n_neighbors': 14}\n",
      "\t\tGRIDSCORES\t R2 0.123251065587 pour {'n_neighbors': 15}\n",
      "\t\tGRIDSCORES\t R2 0.127459415786 pour {'n_neighbors': 16}\n",
      "\t\tGRIDSCORES\t R2 0.125785129025 pour {'n_neighbors': 17}\n",
      "\t\tGRIDSCORES\t R2 0.122451835431 pour {'n_neighbors': 18}\n",
      "\t\tGRIDSCORES\t R2 0.121083338749 pour {'n_neighbors': 19}\n",
      "\t\tGRIDSCORES\t R2 0.119287391904 pour {'n_neighbors': 20}\n",
      "\t\tGRIDSCORES\t R2 0.116981142302 pour {'n_neighbors': 21}\n",
      "\t\tGRIDSCORES\t R2 0.118385173065 pour {'n_neighbors': 22}\n",
      "\t\tGRIDSCORES\t R2 0.117482488284 pour {'n_neighbors': 23}\n",
      "\t\tGRIDSCORES\t R2 0.117027036447 pour {'n_neighbors': 24}\n",
      "\t\tGRIDSCORES\t R2 0.114905328246 pour {'n_neighbors': 25}\n",
      "\t\tGRIDSCORES\t R2 0.112930051922 pour {'n_neighbors': 26}\n",
      "\t\tGRIDSCORES\t R2 0.111530458084 pour {'n_neighbors': 27}\n",
      "\t\tGRIDSCORES\t R2 0.108825683889 pour {'n_neighbors': 28}\n",
      "\t\tGRIDSCORES\t R2 0.110583925761 pour {'n_neighbors': 29}\n",
      "\n",
      "\t\t{'n_neighbors': 16}\t0.127459\n"
     ]
    }
   ],
   "source": [
    "score = 'r2'\n",
    "\n",
    "clf2 = model_selection.GridSearchCV(model, param_grid, cv=6, scoring=score, refit=True)\n",
    "\n",
    "clf2.fit(X_train, y_train)\n",
    "best_params = clf2.best_params_\n",
    "score = clf2.best_score_\n",
    "\n",
    "score_r2 = []\n",
    "\n",
    "for a, c in zip(clf2.cv_results_['mean_test_score'], clf2.cv_results_['params']):\n",
    "    print(\"\\t%s %s %s pour %s\" % ('\\tGRIDSCORES\\t',  \"R2\" , a, c))\n",
    "    score_r2.append(abs(a))\n",
    "\n",
    "print('\\n\\t\\t%s\\t%f' % (str(best_params), abs(score)))"
   ]
  },
  {
   "cell_type": "markdown",
   "metadata": {},
   "source": [
    "Le R2 est optimisé pour le même nombre de voisins que le knn"
   ]
  },
  {
   "cell_type": "markdown",
   "metadata": {},
   "source": [
    "# Figure de représentation des valeurs pour r2 et le MSE"
   ]
  },
  {
   "cell_type": "code",
   "execution_count": 341,
   "metadata": {},
   "outputs": [
    {
     "data": {
      "image/png": "[encoded data removed]",
      "text/plain": [
       "<matplotlib.figure.Figure at 0x19cd0e49828>"
      ]
     },
     "metadata": {},
     "output_type": "display_data"
    }
   ],
   "source": [
    "plt.figure(1, figsize=(15, 9))\n",
    "            \n",
    "plt.plot(axe_X, score_r2, label=\"R2\", color='b')\n",
    "plt.plot(axe_X, score_MSE, label=\"MSE\", color='g')\n",
    "\n",
    "plt.title(\"Grid Search Scores\", fontsize=20, fontweight='bold')\n",
    "plt.xlabel(name_param_1, fontsize=16)\n",
    "plt.ylabel('CV Average Score', fontsize=16)\n",
    "plt.legend(loc=\"best\", fontsize=15)\n",
    "plt.grid('on')\n",
    "plt.show()"
   ]
  },
  {
   "cell_type": "markdown",
   "metadata": {},
   "source": [
    "__Conclusion :__\n",
    "Les valeurs du r2 et du MSE semblent être inversément corrélées. On pourrait le vérifier avec une regréssion linéaire sur ces deux variables, mais ce n'est pas l'objet ici."
   ]
  },
  {
   "cell_type": "markdown",
   "metadata": {},
   "source": [
    "#  Comparaison des résultats des 3 prédictions :\n",
    "* aléatoire\n",
    "* médiane\n",
    "* knn"
   ]
  },
  {
   "cell_type": "code",
   "execution_count": 342,
   "metadata": {},
   "outputs": [
    {
     "name": "stdout",
     "output_type": "stream",
     "text": [
      "MSE : 2.82\n"
     ]
    }
   ],
   "source": [
    "# Prédiction aléatoire\n",
    "y_pred_random = np.random.randint(np.min(y), np.max(y), len(X_test))\n",
    "\n",
    "print(\"MSE : %.2f\" % metrics.mean_squared_error(y_test, y_pred_random))"
   ]
  },
  {
   "cell_type": "code",
   "execution_count": 343,
   "metadata": {},
   "outputs": [
    {
     "name": "stdout",
     "output_type": "stream",
     "text": [
      "MSE : 0.62\n"
     ]
    }
   ],
   "source": [
    "# Prédiction suivant la valeur moyenne\n",
    "dum = dummy.DummyRegressor(strategy='mean')\n",
    "dum.fit(X_train_std, y_train)\n",
    "y_pred_dum = dum.predict(X_test)\n",
    "\n",
    "print(\"MSE : %.2f\" % metrics.mean_squared_error(y_test, y_pred_dum))"
   ]
  },
  {
   "cell_type": "code",
   "execution_count": 345,
   "metadata": {},
   "outputs": [
    {
     "name": "stdout",
     "output_type": "stream",
     "text": [
      "Rappel des paramètres optimaux : {'n_neighbors': 16}\n",
      "\n",
      "MSE : 0.50\n"
     ]
    }
   ],
   "source": [
    "print(\"Rappel des paramètres optimaux :\", clf.cv_results_['params'][clf.best_index_])\n",
    "\n",
    "# Prédiction sur le jeu de test\n",
    "y_pred = clf.predict(X_test)\n",
    "\n",
    "print(\"\\nMSE : %.2f\" % metrics.mean_squared_error(y_test, y_pred))"
   ]
  },
  {
   "cell_type": "markdown",
   "metadata": {
    "collapsed": true
   },
   "source": [
    "__Conclusion :__\n",
    "Notre algorithme a un peu mieux appris que les valeurs médianes (MSE de 0,5 contre 0,62). Le dummy est largement moins bon que ces deux derniers."
   ]
  }
 ],
 "metadata": {
  "kernelspec": {
   "display_name": "Python 3",
   "language": "python",
   "name": "python3"
  },
  "language_info": {
   "codemirror_mode": {
    "name": "ipython",
    "version": 3
   },
   "file_extension": ".py",
   "mimetype": "text/x-python",
   "name": "python",
   "nbconvert_exporter": "python",
   "pygments_lexer": "ipython3",
   "version": "3.6.5"
  }
 },
 "nbformat": 4,
 "nbformat_minor": 2
}

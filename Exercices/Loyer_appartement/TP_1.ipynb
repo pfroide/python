{
 "cells": [
  {
   "cell_type": "markdown",
   "metadata": {},
   "source": [
    "  # HOUSING PRICES"
   ]
  },
  {
   "cell_type": "markdown",
   "metadata": {},
   "source": [
    "# 1- Preparation\n",
    "\n",
    "## 1.1- Import modules"
   ]
  },
  {
   "cell_type": "code",
   "execution_count": 25,
   "metadata": {
    "collapsed": true
   },
   "outputs": [],
   "source": [
    "import numpy as np\n",
    "import pandas as pd\n",
    "import matplotlib.pyplot as plt\n",
    "from os import getcwd \n",
    "from sklearn.linear_model import LinearRegression\n",
    "from sklearn import neighbors \n",
    "from sklearn.model_selection import train_test_split"
   ]
  },
  {
   "cell_type": "markdown",
   "metadata": {},
   "source": [
    "## 1.2- Load data"
   ]
  },
  {
   "cell_type": "code",
   "execution_count": 26,
   "metadata": {},
   "outputs": [
    {
     "name": "stdout",
     "output_type": "stream",
     "text": [
      "y: price   \n",
      "X: ['surface', 'arrondissement']\n",
      "matrix size: (827, 3)\n"
     ]
    }
   ],
   "source": [
    "# the data is located in the same folder as the working directory\n",
    "filename = getcwd() + '/house_data.csv'\n",
    "df = pd.read_csv(filename)\n",
    "print('y: {0}   \\nX: {1}'.format(df.columns[0], [df.columns[1], df.columns[2]]))\n",
    "print('matrix size: {0}'.format(df.shape))"
   ]
  },
  {
   "cell_type": "markdown",
   "metadata": {},
   "source": [
    "## 1.3- Data clean up"
   ]
  },
  {
   "cell_type": "code",
   "execution_count": 27,
   "metadata": {
    "collapsed": true
   },
   "outputs": [],
   "source": [
    "# remove the nan:\n",
    "df = df.dropna(axis=0)\n",
    "df.index = np.arange(0, df.shape[0])   # re-index"
   ]
  },
  {
   "cell_type": "markdown",
   "metadata": {},
   "source": [
    "## 1.4- Data exploration\n",
    "\n",
    "Note that:\n",
    "    - all arrondissements are not represented\n",
    "    - there maybe a few outliers in prices and surface"
   ]
  },
  {
   "cell_type": "code",
   "execution_count": 28,
   "metadata": {},
   "outputs": [
    {
     "data": {
      "image/png": "[encoded data removed]",
      "text/plain": [
       "<matplotlib.figure.Figure at 0x109daefd0>"
      ]
     },
     "metadata": {},
     "output_type": "display_data"
    }
   ],
   "source": [
    "# plot the data\n",
    "plt.ion()\n",
    "plt.figure(figsize=(5, 6))\n",
    "plt.subplot(3, 1, 1)\n",
    "plt.title('prices')\n",
    "plt.hist(df.price)\n",
    "\n",
    "plt.subplot(3, 1, 2)\n",
    "plt.title('arrondissement')\n",
    "plt.hist(df.arrondissement)\n",
    "\n",
    "plt.subplot(3, 1, 3)\n",
    "plt.title('surface')\n",
    "plt.hist(df.surface)\n",
    "\n",
    "plt.tight_layout()\n",
    "plt.show()"
   ]
  },
  {
   "cell_type": "markdown",
   "metadata": {},
   "source": [
    "## 1.5- Preping the data for machine learning"
   ]
  },
  {
   "cell_type": "code",
   "execution_count": 29,
   "metadata": {
    "collapsed": true
   },
   "outputs": [],
   "source": [
    "# organize the data\n",
    "df['ones'] = pd.DataFrame(np.ones(df.shape[0]))  # add the ones column\n",
    "df = df[['price', 'ones', 'surface', 'arrondissement']]\n",
    "# define target and features\n",
    "y = df.price.as_matrix()\n",
    "X = df[['ones', 'surface', 'arrondissement']].as_matrix()\n",
    "# separate test and train set\n",
    "xtrain, xtest, ytrain, ytest = train_test_split(X, y, test_size=0.2)"
   ]
  },
  {
   "cell_type": "markdown",
   "metadata": {},
   "source": [
    "# 2- Machine learning\n",
    "\n",
    "## 2.1- Functions\n",
    "\n",
    "### 2.1.1- Regression function"
   ]
  },
  {
   "cell_type": "code",
   "execution_count": 30,
   "metadata": {
    "collapsed": true
   },
   "outputs": [],
   "source": [
    "def regress(xtrain, ytrain, xtest, ytest):\n",
    "    \"\"\"return coeff, error and prediction\n",
    "    \"\"\"\n",
    "    import warnings\n",
    "    warnings.filterwarnings(\n",
    "        action=\"ignore\", module=\"scipy\", message=\"^internal gelsd\")\n",
    "    regressor = LinearRegression()\n",
    "    regressor.fit(xtrain, ytrain)\n",
    "    # error\n",
    "    error = np.round(100 - 100*regressor.score(xtest, ytest), 4)\n",
    "    # coefficient\n",
    "    c = pd.DataFrame(regressor.coef_)\n",
    "    # results\n",
    "    results = pd.DataFrame(regressor.predict(xtest))\n",
    "    y = pd.DataFrame(ytest)\n",
    "    r = pd.concat((pd.DataFrame(xtest[:,1:]), y, results), axis=1)\n",
    "    results = pd.concat((r, y-results), axis=1)\n",
    "    return c, error, results"
   ]
  },
  {
   "cell_type": "markdown",
   "metadata": {},
   "source": [
    "### 2.1.2- Helpers\n",
    "\n",
    "We define 3 helpers functions for the repetitive tasks: \n",
    "    - printMe(.): to show in same format\n",
    "    - one_hot(.): to arrange the arrondissements in columns with show by default\n",
    "    - remove_outliers(.): remove outliers with thresholds defined by default\n"
   ]
  },
  {
   "cell_type": "code",
   "execution_count": 31,
   "metadata": {
    "collapsed": true
   },
   "outputs": [],
   "source": [
    "def printMe(show=5):\n",
    "    print('linear regression coefficients: \\n{0}'.format(c))\n",
    "    print('\\nerror: {0}'.format(e))\n",
    "    show = show\n",
    "    print('\\nfirst {0} data points with their prediction: \\n{1}'.\n",
    "          format(show, m.head(show)))\n",
    "    print('\\nlast {0} data points with their prediction: \\n{1}'.\n",
    "          format(show, m.tail(show)))\n",
    "\n",
    "\n",
    "def one_hot(x):\n",
    "    x2 = x[:, [0,1]]\n",
    "    d = pd.DataFrame(x[:,2])   # the arrondissement column into a DF\n",
    "    for a in range(1, 11):\n",
    "        d[a] = pd.DataFrame(np.where(d[0] == a, 1, 0))\n",
    "    x2 = np.concatenate([x2, d.iloc[:, 1:]], axis=1)   # so lazy!\n",
    "    return x2\n",
    "\n",
    "\n",
    "def remove_outliers(X, Y, threshold_price=5000, threshold_surface=100):\n",
    "    df = pd.DataFrame(np.concatenate([np.matrix(Y).T, X], axis=1))\n",
    "    df = df.where(df[0] < threshold_price, np.nan)\n",
    "    df = df.where(df[2] < threshold_surface, np.nan)\n",
    "    df = df.dropna()\n",
    "    df.index = np.arange(0, df.shape[0])   # re-index\n",
    "    return df.loc[:,1:].as_matrix(), df[0].as_matrix()\n"
   ]
  },
  {
   "cell_type": "markdown",
   "metadata": {},
   "source": [
    "## 2.2- The base case\n",
    "\n",
    "We apply the regression to the data set as such without any modifications."
   ]
  },
  {
   "cell_type": "code",
   "execution_count": 32,
   "metadata": {},
   "outputs": [
    {
     "name": "stdout",
     "output_type": "stream",
     "text": [
      "\n",
      "\n",
      "-------------------------------------------------\n",
      "BASE CASE\n",
      "-------------------------------------------------\n",
      "linear regression coefficients: \n",
      "                coefficient\n",
      "ones               0.000000\n",
      "surface           37.028976\n",
      "arrondissement   -40.728801\n",
      "\n",
      "error: 35.7843\n",
      "\n",
      "first 5 data points with their prediction: \n",
      "   surface  arrondissement  true_value   prediction       error\n",
      "0    65.00             4.0        2300  2275.877319   24.122681\n",
      "1    25.24            10.0         780   559.232447  220.767553\n",
      "2    44.53             1.0        1404  1640.080591 -236.080591\n",
      "3    55.00             3.0        1520  1946.316364 -426.316364\n",
      "4    71.00             1.0        1910  2620.237574 -710.237574\n",
      "\n",
      "last 5 data points with their prediction: \n",
      "     surface  arrondissement  true_value   prediction        error\n",
      "160    27.98             2.0        1118   986.522245   131.477755\n",
      "161    20.90            10.0         820   398.526693   421.473307\n",
      "162    70.90             1.0        2300  2616.534677  -316.534677\n",
      "163   127.00             4.0        4100  4571.673804  -471.673804\n",
      "164   169.00            10.0        3250  5882.517974 -2632.517974\n"
     ]
    }
   ],
   "source": [
    "# BASE CASE\n",
    "print('\\n\\n-------------------------------------------------')    \n",
    "print('BASE CASE')\n",
    "print('-------------------------------------------------')\n",
    "c, e, m = regress(xtrain, ytrain, xtest, ytest)\n",
    "c.index = ['ones', 'surface', 'arrondissement']\n",
    "c.columns = ['coefficient']\n",
    "m.columns = ['surface', 'arrondissement', 'true_value', 'prediction', 'error']\n",
    "# print results\n",
    "printMe()"
   ]
  },
  {
   "cell_type": "markdown",
   "metadata": {},
   "source": [
    "## 2.3- One-hot\n",
    "\n",
    "As the arrondissement should pertain more to a category, \n",
    "we arrange the column arrondissement such as: \n",
    "    - we add as many columns as we have arrondissements\n",
    "    - each new arrondissement column contain 0 or 1 as the row pertains to that arrondissement (1) or not (0)\n",
    "    - we remove the arrondissement column"
   ]
  },
  {
   "cell_type": "code",
   "execution_count": 33,
   "metadata": {},
   "outputs": [
    {
     "name": "stdout",
     "output_type": "stream",
     "text": [
      "\n",
      "\n",
      "-------------------------------------------------\n",
      "ONE-HOT\n",
      "-------------------------------------------------\n",
      "linear regression coefficients: \n",
      "                   coefficient\n",
      "ones                  0.000000\n",
      "surface              36.871610\n",
      "1 arrondissement    106.485432\n",
      "2 arrondissement     67.814370\n",
      "3 arrondissement    -41.951821\n",
      "4 arrondissement    139.685886\n",
      "5 arrondissement      0.000000\n",
      "6 arrondissement      0.000000\n",
      "7 arrondissement      0.000000\n",
      "8 arrondissement      0.000000\n",
      "9 arrondissement      0.000000\n",
      "10 arrondissement  -272.033867\n",
      "\n",
      "error: 35.7995\n",
      "\n",
      "first 5 data points with their prediction: \n",
      "   surface  arrondissement  true_value   prediction       error\n",
      "0    65.00             4.0        2300  2413.012439 -113.012439\n",
      "1    25.24            10.0         780   535.277468  244.722532\n",
      "2    44.53             1.0        1404  1625.050126 -221.050126\n",
      "3    55.00             3.0        1520  1862.658631 -342.658631\n",
      "4    71.00             1.0        1910  2601.041646 -691.041646\n",
      "\n",
      "last 5 data points with their prediction: \n",
      "     surface  arrondissement  true_value   prediction        error\n",
      "160    27.98             2.0        1118   976.153917   141.846083\n",
      "161    20.90            10.0         820   375.254680   444.745320\n",
      "162    70.90             1.0        2300  2597.354485  -297.354485\n",
      "163   127.00             4.0        4100  4699.052267  -599.052267\n",
      "164   169.00            10.0        3250  5835.940139 -2585.940139\n"
     ]
    }
   ],
   "source": [
    "# ONE-HOT\n",
    "# we need to change the arrondissement column to a series of columns\n",
    "# whose title will be the arrondissement number, and containing\n",
    "# - 1 if the columns pertains to the arrondissement column title\n",
    "# - 0 otherwise\n",
    "print('\\n\\n-------------------------------------------------')\n",
    "print('ONE-HOT')\n",
    "print('-------------------------------------------------')\n",
    "xtrain2 = one_hot(xtrain)\n",
    "xtest2 = one_hot(xtest)\n",
    "c, e, m = regress(xtrain2, ytrain, xtest2, ytest)\n",
    "# formating for print\n",
    "arr_labels = [str(i) + ' arrondissement' for i in range(1,11)]\n",
    "c.index = ['ones', 'surface'] + arr_labels\n",
    "c.columns = ['coefficient']\n",
    "# re-work m to have only the columns we need\n",
    "m = m.iloc[:, [0, 11, 12, 13]]   # the columms we need\n",
    "m.columns = ['surface', 'true_value', 'prediction', 'error']\n",
    "m['arrondissement'] = pd.DataFrame(xtest[:,2])\n",
    "# put columns in the order we like\n",
    "m = m[['surface', 'arrondissement', 'true_value', 'prediction', 'error']]\n",
    "# print results\n",
    "printMe()"
   ]
  },
  {
   "cell_type": "markdown",
   "metadata": {},
   "source": [
    "## 2.4- Remove the outliers\n",
    "\n",
    "We remove the rows that we feel may perturb our machine learning.\n",
    "Essentially we remove any row for which: \n",
    "    - price > 5000\n",
    "    - surface > 100"
   ]
  },
  {
   "cell_type": "code",
   "execution_count": 34,
   "metadata": {},
   "outputs": [
    {
     "data": {
      "image/png": "[encoded data removed]",
      "text/plain": [
       "<matplotlib.figure.Figure at 0x109d94588>"
      ]
     },
     "metadata": {},
     "output_type": "display_data"
    }
   ],
   "source": [
    "XX, YY = remove_outliers(X, y)\n",
    "gf = pd.DataFrame(np.concatenate([np.matrix(YY).T, XX], axis=1))\n",
    "gf.columns = ['price', 'ones', 'surface', 'arrondissement']\n",
    "\n",
    "# plot the data without the outliers\n",
    "plt.figure(figsize=(5, 6))\n",
    "plt.subplot(2, 1, 1)\n",
    "plt.title('prices')\n",
    "plt.hist(gf.price)\n",
    "\n",
    "plt.subplot(2, 1, 2)\n",
    "plt.title('surface')\n",
    "plt.hist(gf.surface)\n",
    "\n",
    "plt.tight_layout()\n",
    "plt.show()"
   ]
  },
  {
   "cell_type": "markdown",
   "metadata": {},
   "source": [
    "## 2.4.1- Remove outliers from the base case"
   ]
  },
  {
   "cell_type": "code",
   "execution_count": 35,
   "metadata": {},
   "outputs": [
    {
     "name": "stdout",
     "output_type": "stream",
     "text": [
      "\n",
      "\n",
      "-------------------------------------------------\n",
      "REMOVE THE OUTLIERS FROM BASE CASE\n",
      "-------------------------------------------------\n",
      "linear regression coefficients: \n",
      "                coefficient\n",
      "ones               0.000000\n",
      "surface           26.191637\n",
      "arrondissement   -41.493557\n",
      "\n",
      "error: 22.7525\n",
      "\n",
      "first 5 data points with their prediction: \n",
      "   surface  arrondissement  true_value   prediction       error\n",
      "0    65.00             4.0      2300.0  2092.625290  207.374710\n",
      "1    25.24            10.0       780.0   802.284475  -22.284475\n",
      "2    44.53             1.0      1404.0  1680.963162 -276.963162\n",
      "3    55.00             3.0      1520.0  1872.202482 -352.202482\n",
      "4    71.00             1.0      1910.0  2374.255782 -464.255782\n",
      "\n",
      "last 5 data points with their prediction: \n",
      "     surface  arrondissement  true_value   prediction       error\n",
      "135    64.00             3.0      1850.0  2107.927211 -257.927211\n",
      "136    23.00             3.0      1250.0  1034.070112  215.929888\n",
      "137    27.98             2.0      1118.0  1205.998019  -87.998019\n",
      "138    20.90            10.0       820.0   688.612773  131.387227\n",
      "139    70.90             1.0      2300.0  2371.636618  -71.636618\n"
     ]
    }
   ],
   "source": [
    "# remove the outliers from base case\n",
    "print('\\n\\n-------------------------------------------------')\n",
    "print('REMOVE THE OUTLIERS FROM BASE CASE')\n",
    "print('-------------------------------------------------')\n",
    "xtrain3, ytrain3 = remove_outliers(xtrain, ytrain)\n",
    "xtest3, ytest3 = remove_outliers(xtest, ytest)\n",
    "c, e, m = regress(xtrain3, ytrain3, xtest3, ytest3)\n",
    "# formating\n",
    "c.index = ['ones', 'surface', 'arrondissement']\n",
    "c.columns = ['coefficient']\n",
    "m.columns = ['surface', 'arrondissement', 'true_value', 'prediction', 'error']\n",
    "# print results\n",
    "printMe()"
   ]
  },
  {
   "cell_type": "markdown",
   "metadata": {},
   "source": [
    "## 2.4.1- Remove outliers from the one_hot"
   ]
  },
  {
   "cell_type": "code",
   "execution_count": 36,
   "metadata": {},
   "outputs": [
    {
     "name": "stdout",
     "output_type": "stream",
     "text": [
      "\n",
      "\n",
      "-------------------------------------------------\n",
      "REMOVE THE OUTLIERS FROM ONE-HOT\n",
      "-------------------------------------------------\n",
      "linear regression coefficients: \n",
      "                   coefficient\n",
      "ones                  0.000000\n",
      "surface              25.657500\n",
      "1 arrondissement    215.968648\n",
      "2 arrondissement     -6.386825\n",
      "3 arrondissement    -17.841573\n",
      "4 arrondissement     53.172777\n",
      "5 arrondissement      0.000000\n",
      "6 arrondissement      0.000000\n",
      "7 arrondissement      0.000000\n",
      "8 arrondissement      0.000000\n",
      "9 arrondissement      0.000000\n",
      "10 arrondissement  -244.913027\n",
      "\n",
      "error: 22.0346\n",
      "\n",
      "first 5 data points with their prediction: \n",
      "   surface  arrondissement  true_value   prediction       error\n",
      "0    65.00             0.0      2300.0  2132.873709  167.126291\n",
      "1    25.24             0.0       780.0   814.645701  -34.645701\n",
      "2    44.53             1.0      1404.0  1770.460553 -366.460553\n",
      "3    55.00             0.0      1520.0  1805.284358 -285.284358\n",
      "4    71.00             1.0      1910.0  2449.614580 -539.614580\n",
      "\n",
      "last 5 data points with their prediction: \n",
      "     surface  arrondissement  true_value   prediction       error\n",
      "135    64.00             0.0      1850.0  2036.201858 -186.201858\n",
      "136    23.00             0.0      1250.0   984.244355  265.755645\n",
      "137    27.98             0.0      1118.0  1123.473454   -5.473454\n",
      "138    20.90             0.0       820.0   703.292151  116.707849\n",
      "139    70.90             1.0      2300.0  2447.048830 -147.048830\n"
     ]
    }
   ],
   "source": [
    "# remove the outliers from one hot\n",
    "print('\\n\\n-------------------------------------------------')\n",
    "print('REMOVE THE OUTLIERS FROM ONE-HOT')\n",
    "print('-------------------------------------------------')\n",
    "xtrain4, ytrain4 = one_hot(xtrain3), ytrain3\n",
    "xtest4, ytest4 = one_hot(xtest3), ytest3\n",
    "c, e, m = regress(xtrain4, ytrain4, xtest4, ytest4)\n",
    "# formating for print\n",
    "arr_labels = [str(i) + ' arrondissement' for i in range(1,11)]\n",
    "c.index = ['ones', 'surface'] + arr_labels\n",
    "c.columns = ['coefficient']\n",
    "# re-work m to have only the columns we need\n",
    "m = m.iloc[:, [0, 11, 12, 13]]   # the columms we need\n",
    "m.columns = ['surface', 'true_value', 'prediction', 'error']\n",
    "m['arrondissement'] = pd.DataFrame(xtest4[:,2])\n",
    "# put columns in the order we like\n",
    "m = m[['surface', 'arrondissement', 'true_value', 'prediction', 'error']]\n",
    "# print results\n",
    "printMe()\n",
    "\n",
    "                           \n"
   ]
  },
  {
   "cell_type": "markdown",
   "metadata": {},
   "source": [
    "# Conclusion: need for more data!\n",
    "\n",
    "Although we see that the One-Hot approach brought somewhat better prediction\n",
    "errors we note also that if we run the training several times, it so happens that \n",
    "the improvement is sometimes actually worsening the prediction.\n",
    "Also, the improvement is a little further when we remove the price and surface outliers, but not always.\n",
    "\n",
    "But overall, we were unable to dramatically improve the prediction.\n",
    "So it means that we really need to have more data points:\n",
    "    - more arrondissements\n",
    "    - more data points per arrondissements"
   ]
  }
 ],
 "metadata": {
  "kernelspec": {
   "display_name": "Python 3",
   "language": "python",
   "name": "python3"
  },
  "language_info": {
   "codemirror_mode": {
    "name": "ipython",
    "version": 3
   },
   "file_extension": ".py",
   "mimetype": "text/x-python",
   "name": "python",
   "nbconvert_exporter": "python",
   "pygments_lexer": "ipython3",
   "version": "3.6.2"
  }
 },
 "nbformat": 4,
 "nbformat_minor": 2
}

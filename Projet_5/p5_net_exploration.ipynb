{
 "cells": [
  {
   "cell_type": "code",
   "execution_count": 25,
   "metadata": {},
   "outputs": [],
   "source": [
    "%matplotlib inline\n",
    "\n",
    "# On importe les librairies dont on aura besoin pour ce tp\n",
    "import datetime\n",
    "import numpy as np\n",
    "import pandas as pd\n",
    "from matplotlib import pyplot as plt, cm as cm\n",
    "from sklearn.cluster import KMeans\n",
    "from sklearn import metrics\n",
    "from sklearn import preprocessing\n",
    "from sklearn.metrics import silhouette_score\n",
    "from sklearn.cluster import DBSCAN\n",
    "from sklearn.preprocessing import StandardScaler\n",
    "\n",
    "# Lieu où se trouve le fichier de base\n",
    "_DOSSIER = 'C:\\\\Users\\\\Toni\\\\Desktop\\\\pas_synchro\\\\p5\\\\'"
   ]
  },
  {
   "cell_type": "markdown",
   "metadata": {},
   "source": [
    "# Fonctions utilisées"
   ]
  },
  {
   "cell_type": "code",
   "execution_count": 26,
   "metadata": {},
   "outputs": [],
   "source": [
    "def correlation_matrix(data):\n",
    "    \"\"\"\n",
    "        Fonction qui permet de créer une visualisation du lien entre les\n",
    "        variables 2 à 2\n",
    "    \"\"\"\n",
    "\n",
    "    # Calcule de la matrice\n",
    "    corr = data.corr()\n",
    "    cmap = cm.get_cmap('jet', 30)\n",
    "\n",
    "    # Taille de la figure\n",
    "    plt.figure(figsize=(15, 15))\n",
    "    # Création du type d'image\n",
    "    cax = plt.imshow(data.corr(), interpolation=\"nearest\", cmap=cmap)\n",
    "    plt.grid(True)\n",
    "\n",
    "    # Libellés sur les axes\n",
    "    plt.xticks(range(len(corr.columns)), corr.columns, rotation=90, fontsize=10)\n",
    "    plt.yticks(range(len(corr.columns)), corr.columns, fontsize=10)\n",
    "\n",
    "    # Add colorbar, make sure to specify tick locations to match desired ticklabels\n",
    "    plt.colorbar(cax, ticks=[-0.5, -0.25, 0, 0.25, 0.5, 0.75, 1])\n",
    "    plt.tight_layout()\n",
    "    plt.show()\n",
    "\n",
    "def dbscan(data_x, nb_samples):\n",
    "    \"\"\"\n",
    "    Test de l'algorithme dbscan\n",
    "    \"\"\"\n",
    "\n",
    "    data_x = StandardScaler().fit_transform(data_x)\n",
    "\n",
    "    # Compute DBSCAN\n",
    "    var_db = DBSCAN(eps=0.5, min_samples=nb_samples).fit(data_x)\n",
    "    core_samples_mask = np.zeros_like(var_db.labels_, dtype=bool)\n",
    "    core_samples_mask[var_db.core_sample_indices_] = True\n",
    "    labels = var_db.labels_\n",
    "\n",
    "    # Number of clusters in labels, ignoring noise if present.\n",
    "    n_clusters_ = len(set(labels)) - (1 if -1 in labels else 0)\n",
    "    mask = (labels == -1)\n",
    "    reste = -sum(labels[mask])\n",
    "\n",
    "    print('N =', nb_samples)\n",
    "    print('Estimated number of clusters: %d' % n_clusters_)\n",
    "    print('Nombre sans clusters : %d' % reste)\n",
    "    print(\"Silhouette Coeff : %0.3f\" % metrics.silhouette_score(data_x, labels))\n",
    "\n",
    "    return labels\n",
    "\n",
    "def affichage_kmeans(datanum, vmin, vmax, step):\n",
    "    \"\"\"\n",
    "    Test de l'algorithme kmeans et affichage de la méthode du coude.\n",
    "    \"\"\"\n",
    "\n",
    "    # Variables\n",
    "    listing = dict()\n",
    "    distortions = []\n",
    "\n",
    "    # Scale des données obligatoire avant la réduction des dimensions\n",
    "    std_scale = preprocessing.StandardScaler().fit(datanum)\n",
    "    x_scaled = std_scale.transform(datanum)\n",
    "\n",
    "    cluster_range = range(vmin, vmax+1, step)\n",
    "\n",
    "    for i in cluster_range:\n",
    "\n",
    "        # On fait i clusters avec les données scalées.\n",
    "        kmeans = KMeans(n_clusters=i,\n",
    "                        n_init=50,\n",
    "                        max_iter=500,\n",
    "                        random_state=10)\n",
    "\n",
    "        kmeans.fit(x_scaled)\n",
    "        # Nouvelle colonne avec les conclusions de kmeans\n",
    "        datanum['labels'] = kmeans.labels_\n",
    "\n",
    "        # Initialize the clusterer with n_clusters value and a random generator\n",
    "        # seed of 10 for reproducibility.\n",
    "        cluster_labels = kmeans.fit_predict(x_scaled)\n",
    "\n",
    "        # The silhouette_score gives the average value for all the samples.\n",
    "        # This gives a perspective into the density and separation of the formed\n",
    "        # clusters\n",
    "        silhouette_avg = silhouette_score(x_scaled, cluster_labels)\n",
    "        distortions.append(kmeans.inertia_)\n",
    "        listing[i] = silhouette_avg\n",
    "\n",
    "    # Données du graphique du coude\n",
    "    clusters_df = pd.DataFrame({\"num_clusters\":cluster_range, \"cluster_errors\": distortions})\n",
    "\n",
    "    # Graphique du coude\n",
    "    plt.figure(figsize=(15, 15))\n",
    "    plt.plot(cluster_range, distortions, 'bx-')\n",
    "    plt.xlabel('k')\n",
    "    plt.ylabel('Distortion')\n",
    "    plt.title('The Elbow Method showing the optimal k')\n",
    "    plt.show()\n",
    "\n",
    "    return listing, clusters_df\n",
    "\n",
    "def histogramme(data, colon):\n",
    "    \"\"\"\n",
    "    Affichage d'histogrammes\n",
    "    \"\"\"\n",
    "\n",
    "    plt.figure(figsize=(10, 6))\n",
    "    plt.xlabel('Valeurs')\n",
    "    plt.ylabel('Décompte')\n",
    "    titre = 'Histogramme ' + colon\n",
    "    plt.title(titre)\n",
    "\n",
    "    # Affichage sans les valeurs NaN\n",
    "    plt.hist(data[colon][np.isfinite(data[colon])], bins=100)\n",
    "    plt.show()\n",
    "\n",
    "def creation_intervalles_days(df_num, nom_colonne, depart_point, frequence, nb_periods):\n",
    "    \"\"\"\n",
    "    Création des intervalles (pour les jours) où vont être mis les variables\n",
    "    de durée\n",
    "    \"\"\"\n",
    "\n",
    "    # Convertion de la Série d'entrée en DataFrame\n",
    "    datatemp = pd.DataFrame(df_num[nom_colonne]).astype('datetime64[ns]')\n",
    "\n",
    "    # Intervalles\n",
    "    bins_dt = pd.date_range(depart_point,\n",
    "                            freq=frequence,\n",
    "                            periods=nb_periods\n",
    "                           )\n",
    "    bins_str = bins_dt.astype(str).values\n",
    "\n",
    "    # Labels des intervalles\n",
    "    labels = ['({}, {}]'.format(bins_str[i-1], bins_str[i]) for i in range(1, len(bins_str))]\n",
    "\n",
    "    # Nom des nouvelles colonnes pour préparer le one-hot encoding\n",
    "    new_column_name = 'interval_' + nom_colonne\n",
    "\n",
    "    # df.Date.astype(np.int64)//10**9 - converts datetime values into UNIX epoch\n",
    "    datatemp[new_column_name] = pd.cut(datatemp[nom_colonne].astype(np.int64)//10**9,\n",
    "                                       bins=bins_dt.astype(np.int64)//10**9,\n",
    "                                       labels=labels\n",
    "                                      )\n",
    "\n",
    "    # Suppression de la colonne qui existe déjà dans le dataframe final\n",
    "    del datatemp[nom_colonne]\n",
    "\n",
    "    # Insertion dans le dataframe qui existait auparavant\n",
    "    df_num = df_num.join(datatemp, how='right')\n",
    "\n",
    "    return df_num\n",
    "\n",
    "def comparaison(datatemp, ligne, colonne):\n",
    "    \"\"\"\n",
    "    Fonction qui déterminer l'intervalle horaire de l'horaire en entrée\n",
    "    \"\"\"\n",
    "\n",
    "    # Cinq comparaisons pour connaitre l'intervalle horaire\n",
    "    if datatemp.loc[str(ligne), colonne].hour < 8:\n",
    "        return '[00:00 - 08:00)'\n",
    "    elif datatemp.loc[str(ligne), colonne].hour < 12:\n",
    "        return '[08:00 - 12:00)'\n",
    "    elif datatemp.loc[str(ligne), colonne].hour < 16:\n",
    "        return '[12:00 - 16:00)'\n",
    "    elif datatemp.loc[str(ligne), colonne].hour < 20:\n",
    "        return '[16:00 - 20:00)'\n",
    "    #Sinon\n",
    "    return '[20:00 - 00:00)'\n",
    "\n",
    "def creation_intervalles_heures(df_num, nom_colonne):\n",
    "    \"\"\"\n",
    "    Appel de la fonction pour désigner l'intervalle horaire\n",
    "    \"\"\"\n",
    "\n",
    "    # Convertion de la Série d'entrée en DataFrame\n",
    "    datatemp = pd.DataFrame(df_num[nom_colonne])\n",
    "\n",
    "    # Nom des nouvelles colonnes pour préparer le one-hot encoding\n",
    "    new_column_name = 'interval_' + nom_colonne\n",
    "\n",
    "    # Pour tous les index, on recherche les données\n",
    "    for ligne in datatemp.index:\n",
    "        datatemp.loc[str(ligne), new_column_name] = comparaison(datatemp, ligne, nom_colonne)\n",
    "\n",
    "    # Suppression de la colonne qui existe déjà dans le dataframe final\n",
    "    del datatemp[nom_colonne]\n",
    "\n",
    "    # Insertion dans le dataframe qui existait auparavant\n",
    "    df_num = df_num.join(datatemp, how='right')\n",
    "\n",
    "    return df_num\n",
    "\n",
    "def calcul_sommes(data, df_num):\n",
    "    \"\"\"\n",
    "    Fonction qui va gérer toutes les informations retirées graçe aux dates\n",
    "    \"\"\"\n",
    "\n",
    "    # Colonnes que l'on va créer dans le dataframe vide\n",
    "    colonnes = ['valeur_facture_1',\n",
    "                'valeur_facture_2',\n",
    "                'valeur_last_facture'\n",
    "               ]\n",
    "\n",
    "    # Création d'un dataframe vide\n",
    "    datatemp = pd.DataFrame(columns=colonnes)\n",
    "\n",
    "    # Création de la liste des valeurs des factures\n",
    "    aggregations = {'TotalAmount':'sum'}\n",
    "    liste_amounts = data.groupby('InvoiceNo').agg(aggregations)\n",
    "\n",
    "    # Pour tous les index, on recherche les données\n",
    "    for ligne in df_num.index:\n",
    "        # Récupération de toutes les dates d'achats\n",
    "        liste_factures = pd.Series(data['InvoiceNo'][data['CustomerID'] == float(ligne)].unique())\n",
    "\n",
    "        # Récupération de la valeur de la première facture, case 0\n",
    "        premiere_facture = liste_amounts.loc[liste_factures[0]][0]\n",
    "\n",
    "        # Et on rajoute ça dans le dataframe créé pour ça\n",
    "        datatemp.loc[str(ligne), colonnes[0]] = premiere_facture\n",
    "\n",
    "        # Récupération de la valeur d'autres factures\n",
    "        if len(liste_factures) > 1:\n",
    "            # Facture n°2\n",
    "            deuxieme_facture = liste_amounts.loc[liste_factures[1]][0]\n",
    "\n",
    "            # Dernière facture\n",
    "            derniere_facture = liste_amounts.loc[liste_factures[len(liste_factures)-1]][0]\n",
    "\n",
    "            # Et on rajoute ça dans le dataframe créé pour ça\n",
    "            datatemp.loc[str(ligne), colonnes[1]] = deuxieme_facture\n",
    "            datatemp.loc[str(ligne), colonnes[2]] = derniere_facture\n",
    "\n",
    "    # Insertion dans le dataframe qui existait auparavant\n",
    "    df_num = df_num.join(datatemp, how='right')\n",
    "\n",
    "    # Formatage en float\n",
    "    df_num['valeur_facture_1'] = df_num['valeur_facture_1'].astype(float)\n",
    "    df_num['valeur_facture_2'] = df_num['valeur_facture_2'].astype(float)\n",
    "    df_num['valeur_last_facture'] = df_num['valeur_last_facture'].astype(float)\n",
    "\n",
    "    return df_num\n",
    "\n",
    "def calcul_dates(data, df_num):\n",
    "    \"\"\"\n",
    "    Fonction qui va gérer toutes les informations retirées graçe aux dates\n",
    "    \"\"\"\n",
    "\n",
    "    # Colonnes que l'on va créer dans le dataframe vide\n",
    "    colonnes = ['ecart_moy_2_achats',\n",
    "                'moyenne_horaire',\n",
    "                'jour_achat_n1',\n",
    "                'heure_achat_n1',\n",
    "                'jour_dernier_achat',\n",
    "                'heure_dernier_achat',\n",
    "                'ecart_min_2_achats',\n",
    "                'ecart_max_2_achats',\n",
    "                'day_of_week'\n",
    "               ]\n",
    "\n",
    "    # Création d'un dataframe vide\n",
    "    datatemp = pd.DataFrame(columns=colonnes)\n",
    "\n",
    "    # Pour tous les index, on recherche les données\n",
    "    for ligne in df_num.index:\n",
    "        # Récupération de toutes les dates d'achats\n",
    "        dates = pd.Series(data['InvoiceDate'][data['CustomerID'] == float(ligne)].unique())\n",
    "\n",
    "        # Initialisation des variables au bon type\n",
    "        somme = datetime.timedelta(0)\n",
    "        ecart_min = datetime.timedelta(500)\n",
    "        ecart_max = datetime.timedelta(0)\n",
    "        res = []\n",
    "\n",
    "        # Pour toutes les dates, on calcule la différence entre 2 dates\n",
    "        for i, j in enumerate(dates):\n",
    "            # Pour calculer l'heure moyenne d'achat\n",
    "            res.append(dates[i].hour*60 + dates[i].minute)\n",
    "\n",
    "            # Pour calculer le nombre de jours entre deux achats\n",
    "            if i != 0:\n",
    "                somme = somme + (dates[i] - dates[i-1])\n",
    "\n",
    "                #Comparaison pour les écarts min et max\n",
    "                if ecart_min > (dates[i] - dates[i-1]):\n",
    "                    ecart_min = dates[i] - dates[i-1]\n",
    "                if ecart_max < dates[i] - dates[i-1]:\n",
    "                    ecart_max = dates[i] - dates[i-1]\n",
    "\n",
    "        # Vérification qu'il y a eu plus qu'un achat, sinon on enlève la valeur initiale\n",
    "        if ecart_min == datetime.timedelta(500):\n",
    "            ecart_min = datetime.timedelta(365)\n",
    "\n",
    "        if ecart_max == datetime.timedelta(0):\n",
    "            ecart_max = datetime.timedelta(365)\n",
    "\n",
    "        # On fait la moyenne à la fin\n",
    "        if len(dates) > 1:\n",
    "            moyenne = somme / len(dates)\n",
    "        else:\n",
    "            moyenne = datetime.timedelta(365)\n",
    "\n",
    "        # Formatage des heures et minutes pour l'heure moyenne d'achat\n",
    "        var_heures = int((sum(res)/len(res))/60)\n",
    "        var_minutes = int(sum(res)/len(res) - var_heures*60)\n",
    "\n",
    "        # Et on rajoute ça dans le dataframe créé pour ça\n",
    "        datatemp.loc[str(ligne), colonnes[0]] = moyenne.days\n",
    "        datatemp.loc[str(ligne), colonnes[1]] = datetime.time(var_heures,\n",
    "                                                              var_minutes)\n",
    "        datatemp.loc[str(ligne), colonnes[2]] = dates[0].date()\n",
    "        datatemp.loc[str(ligne), colonnes[3]] = datetime.time(dates[0].hour,\n",
    "                                                              dates[0].minute)\n",
    "        datatemp.loc[str(ligne), colonnes[4]] = dates[len(dates)-1].date()\n",
    "        datatemp.loc[str(ligne), colonnes[5]] = datetime.time(dates[len(dates)-1].hour,\n",
    "                                                              dates[len(dates)-1].minute)\n",
    "        datatemp.loc[str(ligne), colonnes[6]] = ecart_min.days\n",
    "        datatemp.loc[str(ligne), colonnes[7]] = ecart_max.days\n",
    "        datatemp.loc[str(ligne), colonnes[8]] = round(dates.dt.weekday.mean())\n",
    "\n",
    "    # Insertion dans le dataframe qui existait auparavant\n",
    "    df_num = df_num.join(datatemp, how='right')\n",
    "\n",
    "    # Formatage en int\n",
    "    df_num['ecart_moy_2_achats'] = df_num['ecart_moy_2_achats'].astype(int)\n",
    "    df_num['ecart_min_2_achats'] = df_num['ecart_min_2_achats'].astype(int)\n",
    "    df_num['ecart_max_2_achats'] = df_num['ecart_max_2_achats'].astype(int)\n",
    "\n",
    "    return df_num\n",
    "\n",
    "def donnees_manquantes(data, nom):\n",
    "    \"\"\"\n",
    "    Données manquantes\n",
    "    \"\"\"\n",
    "\n",
    "    # Données manquantes\n",
    "    fichier_save = _DOSSIERTRAVAIL + '\\\\' + nom + '.csv'\n",
    "    missing_data = data.isnull().sum(axis=0).reset_index()\n",
    "    missing_data.columns = ['column_name', 'missing_count']\n",
    "    missing_data['filling_factor'] = (data.shape[0]-missing_data['missing_count'])/data.shape[0]*100\n",
    "    print(missing_data.sort_values('filling_factor').reset_index(drop=True))\n",
    "\n",
    "    # Transposition du dataframe de données pour l'analyse univariée\n",
    "    fichier_save = _DOSSIERTRAVAIL + '\\\\' + 'transposition.csv'\n",
    "    data_transpose = data.describe().reset_index().transpose()\n",
    "    print(data_transpose)\n",
    "\n",
    "def suppression_labels(df_verif, df_num, nb_cluster):\n",
    "    \"\"\"\n",
    "    # Suppression des petits labels. A améliorer\n",
    "    \"\"\"\n",
    "\n",
    "    # Limite à retravailler\n",
    "    df_verif = df_verif[df_verif['Count'] > 100]\n",
    "\n",
    "    # Création de la liste qui va garder les labels à supprimer\n",
    "    listing = list(range(0, nb_cluster+1))\n",
    "\n",
    "    for i in df_verif.index:\n",
    "        listing.remove(i)\n",
    "\n",
    "    for i in listing:\n",
    "        df_num = df_num[(df_num['labels'] != i)]\n",
    "\n",
    "    return df_num\n"
   ]
  },
  {
   "cell_type": "markdown",
   "metadata": {},
   "source": [
    "# Nettoyage du dataset"
   ]
  },
  {
   "cell_type": "code",
   "execution_count": 27,
   "metadata": {},
   "outputs": [
    {
     "name": "stdout",
     "output_type": "stream",
     "text": [
      "   column_name  missing_count  filling_factor\n",
      "0   CustomerID         135080       75.073306\n",
      "1  Description           1454       99.731689\n",
      "2    InvoiceNo              0      100.000000\n",
      "3    StockCode              0      100.000000\n",
      "4     Quantity              0      100.000000\n",
      "5  InvoiceDate              0      100.000000\n",
      "6    UnitPrice              0      100.000000\n",
      "7      Country              0      100.000000\n",
      "                 0        1        2        3      4      5      6      7\n",
      "index        count     mean      std      min    25%    50%    75%    max\n",
      "Quantity    541909  9.55225  218.081   -80995      1      3     10  80995\n",
      "UnitPrice   541909  4.61111  96.7599 -11062.1   1.25   2.08   4.13  38970\n",
      "CustomerID  406829  15287.7   1713.6    12346  13953  15152  16791  18287\n"
     ]
    }
   ],
   "source": [
    "# Récupération du dataset\n",
    "fichier = 'Online Retail.xlsx'\n",
    "data = pd.read_excel(_DOSSIER + fichier, error_bad_lines=False)\n",
    "\n",
    "# Données manquantes\n",
    "donnees_manquantes(data, \"missing_data_1\")"
   ]
  },
  {
   "cell_type": "markdown",
   "metadata": {},
   "source": [
    "Suppression de données qui ne nous servent pas :\n",
    "* Frais d'Amazon\n",
    "* Factures de remboursement\n",
    "* Factures anonymes"
   ]
  },
  {
   "cell_type": "code",
   "execution_count": 28,
   "metadata": {},
   "outputs": [],
   "source": [
    "data = data[data['StockCode'] != \"AMAZONFEE\"]\n",
    "data = data[data['Quantity'] > 0]\n",
    "data = data[pd.notnull(data['CustomerID'])]"
   ]
  },
  {
   "cell_type": "markdown",
   "metadata": {},
   "source": [
    "Rajout de la somme finale pour les factures"
   ]
  },
  {
   "cell_type": "code",
   "execution_count": 29,
   "metadata": {},
   "outputs": [],
   "source": [
    "# Calcul de la somme par article des factures\n",
    "data['TotalAmount'] = data['Quantity'] * data['UnitPrice']"
   ]
  },
  {
   "cell_type": "markdown",
   "metadata": {},
   "source": [
    "Extration de données du dataset initial qui sont \"cachées\" :\n",
    "* Somme totale par facture\n",
    "* Nombre d'articles par facture\n",
    "* Nombre d'articles différents par facture\n",
    "* Nombre de factures par client"
   ]
  },
  {
   "cell_type": "code",
   "execution_count": 30,
   "metadata": {},
   "outputs": [],
   "source": [
    "# Premiers calculs qui sont fait via l'appel d'un dictionnaire\n",
    "aggregations = {'TotalAmount':'sum',\n",
    "                'Quantity':'sum',\n",
    "                'InvoiceNo': ['count', pd.Series.nunique]\n",
    "               }\n",
    "\n",
    "df_num = data.groupby('CustomerID').agg(aggregations)\n",
    "\n",
    "# Renommage des colonnes du résultat de l'aggrégation\n",
    "df_num.columns = ['1', '2', '3', '4']\n",
    "df_num = df_num.rename(index=str, columns={\"1\": \"somme_total\",\n",
    "                                           \"2\": \"nb_article_total\",\n",
    "                                           \"3\": \"nb_categorie_total\",\n",
    "                                           \"4\": \"nb_factures\"})"
   ]
  },
  {
   "cell_type": "markdown",
   "metadata": {},
   "source": [
    "Calculs de moyennes :\n",
    "* Moyenne d'articles par facture\n",
    "* Moyenne de la somme par facture\n",
    "* Moyenne d'articles différents (catégorie) par facture\n",
    "* Moyenne de la somme par catégorie"
   ]
  },
  {
   "cell_type": "code",
   "execution_count": 31,
   "metadata": {},
   "outputs": [],
   "source": [
    "# Calculs de moyennes\n",
    "df_num['mean_nb_article_facture'] = df_num['nb_article_total']/df_num['nb_factures']\n",
    "df_num['mean_somme_par_facture'] = df_num['somme_total']/df_num['nb_factures']\n",
    "df_num['mean_nb_categorie_facture'] = df_num['nb_categorie_total']/df_num['nb_factures']\n",
    "df_num['mean_somme_par_article'] = df_num['somme_total']/df_num['nb_article_total']"
   ]
  },
  {
   "cell_type": "markdown",
   "metadata": {},
   "source": [
    "Toujours dans l'idée d'extraire des donneés \"cachées\", les deux fonctions calcul_dates et calcul_sommes vont traiter des informations temporelles et des valeurs pour différentes factures choisies (la première, la seconde et la dernière)"
   ]
  },
  {
   "cell_type": "code",
   "execution_count": 32,
   "metadata": {},
   "outputs": [],
   "source": [
    "# Appel de la fonction qui va gérer tout à partir des dates\n",
    "df_num = calcul_dates(data, df_num)\n",
    "\n",
    "# Appel de la fonction qui gérer les différentes factures\n",
    "df_num = calcul_sommes(data, df_num)"
   ]
  },
  {
   "cell_type": "markdown",
   "metadata": {},
   "source": [
    "Afin de pouvoir exploiter les données issues de la fonction calcul_dates, on les transforme en intervalles de jours (pour la première fonction) ou horaires (pour la deuxième fonction) à la manière d'un one-hot encoding"
   ]
  },
  {
   "cell_type": "code",
   "execution_count": 33,
   "metadata": {},
   "outputs": [],
   "source": [
    "# Formatage en intervalle des dates\n",
    "nom_colonne = ['jour_achat_n1', 'jour_dernier_achat']\n",
    "\n",
    "# Création des intervalles journaliers pour les nom_colonne ci-dessus\n",
    "for i in range(0, len(nom_colonne)):\n",
    "    df_num = creation_intervalles_days(df_num,\n",
    "                                       nom_colonne[i],\n",
    "                                       '2010-11-01',    # date de départ de l'intervalle\n",
    "                                       '1M',            # intervalle d'un mois\n",
    "                                       14               # nombre d'intervalles\n",
    "                                      )\n",
    "    del df_num[nom_colonne[i]]"
   ]
  },
  {
   "cell_type": "code",
   "execution_count": 34,
   "metadata": {},
   "outputs": [],
   "source": [
    "# Formatage en intervalle des heures\n",
    "nom_colonne = ['moyenne_horaire', 'heure_achat_n1', 'heure_dernier_achat']\n",
    "\n",
    "# Création des intervalles horaires pour les nom_colonne ci-dessus\n",
    "for i in range(0, len(nom_colonne)):\n",
    "    df_num = creation_intervalles_heures(df_num, nom_colonne[i])\n",
    "\n",
    "    # Suppresion de la colonne d'origine\n",
    "    del df_num[nom_colonne[i]]"
   ]
  },
  {
   "cell_type": "markdown",
   "metadata": {},
   "source": [
    "Pour pouvoir utiliser ces données avec des algorithmes de clustering non supervisés, on les encode avec un label encoding"
   ]
  },
  {
   "cell_type": "code",
   "execution_count": 35,
   "metadata": {},
   "outputs": [],
   "source": [
    "# Label encoding\n",
    "liste_criteres = ['interval_moyenne_horaire',\n",
    "                  'interval_jour_achat_n1',\n",
    "                  'interval_heure_achat_n1',\n",
    "                  'interval_jour_dernier_achat',\n",
    "                  'interval_heure_dernier_achat'\n",
    "                 ]\n",
    "\n",
    "labelencode = preprocessing.LabelEncoder()\n",
    "\n",
    "for critere in liste_criteres:\n",
    "    labelencode.fit(df_num[critere])\n",
    "    df_num[critere] = labelencode.transform(df_num[critere])"
   ]
  },
  {
   "cell_type": "markdown",
   "metadata": {},
   "source": [
    "Affichage de la matrice de corrélation"
   ]
  },
  {
   "cell_type": "code",
   "execution_count": 36,
   "metadata": {},
   "outputs": [
    {
     "data": {
      "image/png": "[encoded data removed]",
      "text/plain": [
       "<matplotlib.figure.Figure at 0x274287464e0>"
      ]
     },
     "metadata": {},
     "output_type": "display_data"
    }
   ],
   "source": [
    "correlation_matrix(df_num)"
   ]
  },
  {
   "cell_type": "markdown",
   "metadata": {},
   "source": [
    "Certaines données ne sont finalement pas inutiles, elles sont supprimées"
   ]
  },
  {
   "cell_type": "code",
   "execution_count": 37,
   "metadata": {},
   "outputs": [],
   "source": [
    "del df_num['interval_heure_dernier_achat']\n",
    "del df_num['interval_jour_dernier_achat']\n",
    "del df_num['valeur_facture_2']\n",
    "del df_num['valeur_last_facture']"
   ]
  },
  {
   "cell_type": "markdown",
   "metadata": {},
   "source": [
    "# Exploration\n",
    "\n",
    "Deux méthodes de clustering non supervisées sont testées :\n",
    "* Kmeans\n",
    "* DBSCan\n",
    "\n",
    "Pour le Kmeans, la méthode du coude va nous permettre d'obtenir un nombre de clusters optimal, ou du moins une approximation de ce nombre."
   ]
  },
  {
   "cell_type": "code",
   "execution_count": 38,
   "metadata": {},
   "outputs": [
    {
     "data": {
      "image/png": "[encoded data removed]",
      "text/plain": [
       "<matplotlib.figure.Figure at 0x27439baa048>"
      ]
     },
     "metadata": {},
     "output_type": "display_data"
    }
   ],
   "source": [
    "# Méthode du KMeans (coude)\n",
    "df_num.fillna(0, inplace=True)\n",
    "res, dico = affichage_kmeans(df_num, 5, 50, 1)"
   ]
  },
  {
   "cell_type": "markdown",
   "metadata": {},
   "source": [
    "Le nombre choisi de cluster est de 20"
   ]
  },
  {
   "cell_type": "code",
   "execution_count": 39,
   "metadata": {},
   "outputs": [],
   "source": [
    "nb_cluster = 20\n",
    "\n",
    "# Scale des données obligatoire pour le Kmeans\n",
    "std_scale = preprocessing.StandardScaler().fit(df_num)\n",
    "x_scaled = std_scale.transform(df_num)\n",
    "\n",
    "kmeans = KMeans(n_clusters=nb_cluster, n_init=50, max_iter=500, random_state=10)\n",
    "\n",
    "kmeans.fit(x_scaled)\n",
    "\n",
    "# Nouvelle colonne avec les conclusions de kmeans\n",
    "df_num['labels'] = kmeans.labels_"
   ]
  },
  {
   "cell_type": "markdown",
   "metadata": {},
   "source": [
    "Petite vérification grace à un histogramme"
   ]
  },
  {
   "cell_type": "code",
   "execution_count": 40,
   "metadata": {},
   "outputs": [
    {
     "data": {
      "image/png": "[encoded data removed]",
      "text/plain": [
       "<matplotlib.figure.Figure at 0x27437903748>"
      ]
     },
     "metadata": {},
     "output_type": "display_data"
    }
   ],
   "source": [
    "# Partie de verification pour voir les labels qui ont étés créés\n",
    "df_verif = df_num.groupby('labels').mean()\n",
    "df_verif['Count'] = df_num.groupby('labels').somme_total.count()\n",
    "\n",
    "# Répartition des labels\n",
    "histogramme(df_num, 'labels')"
   ]
  },
  {
   "cell_type": "markdown",
   "metadata": {},
   "source": [
    "La seconde méthode testée : DBScan"
   ]
  },
  {
   "cell_type": "code",
   "execution_count": 41,
   "metadata": {},
   "outputs": [
    {
     "name": "stdout",
     "output_type": "stream",
     "text": [
      "N = 1\n",
      "Estimated number of clusters: 1859\n",
      "Nombre sans clusters : 0\n",
      "Silhouette Coeff : -0.016\n",
      "N = 2\n",
      "Estimated number of clusters: 303\n",
      "Nombre sans clusters : 1556\n",
      "Silhouette Coeff : -0.163\n",
      "N = 3\n",
      "Estimated number of clusters: 146\n",
      "Nombre sans clusters : 1870\n",
      "Silhouette Coeff : -0.201\n",
      "N = 4\n",
      "Estimated number of clusters: 100\n",
      "Nombre sans clusters : 2111\n",
      "Silhouette Coeff : -0.219\n"
     ]
    }
   ],
   "source": [
    "# Tester dbscan\n",
    "for i in range(1, 5):\n",
    "    liste = dbscan(df_num, i)"
   ]
  },
  {
   "cell_type": "markdown",
   "metadata": {},
   "source": [
    "Certains utilisateurs sont uniques, ou presque. Ils ne sont pas gardés pour notre étude finale"
   ]
  },
  {
   "cell_type": "code",
   "execution_count": 42,
   "metadata": {},
   "outputs": [],
   "source": [
    "# Suppresion des labels de bruit\n",
    "dumb = suppression_labels(df_verif, df_num, nb_cluster)"
   ]
  },
  {
   "cell_type": "markdown",
   "metadata": {},
   "source": [
    "Analyses univarivée et bivariée du nouveau dataset"
   ]
  },
  {
   "cell_type": "code",
   "execution_count": 43,
   "metadata": {},
   "outputs": [
    {
     "name": "stdout",
     "output_type": "stream",
     "text": [
      "                  column_name  missing_count  filling_factor\n",
      "0                 somme_total              0           100.0\n",
      "1    interval_moyenne_horaire              0           100.0\n",
      "2      interval_jour_achat_n1              0           100.0\n",
      "3            valeur_facture_1              0           100.0\n",
      "4                 day_of_week              0           100.0\n",
      "5          ecart_max_2_achats              0           100.0\n",
      "6          ecart_min_2_achats              0           100.0\n",
      "7     interval_heure_achat_n1              0           100.0\n",
      "8          ecart_moy_2_achats              0           100.0\n",
      "9   mean_nb_categorie_facture              0           100.0\n",
      "10     mean_somme_par_facture              0           100.0\n",
      "11    mean_nb_article_facture              0           100.0\n",
      "12                nb_factures              0           100.0\n",
      "13         nb_categorie_total              0           100.0\n",
      "14           nb_article_total              0           100.0\n",
      "15     mean_somme_par_article              0           100.0\n",
      "16                     labels              0           100.0\n",
      "                               0        1         2    3        4        5  \\\n",
      "index                      count     mean       std  min      25%      50%   \n",
      "somme_total                 4339  2053.79   8988.25    0  307.245   674.45   \n",
      "nb_article_total            4339  1194.21    5055.6    1      160      379   \n",
      "nb_categorie_total          4339  91.7087   228.793    1       17       41   \n",
      "nb_factures                 4339  4.27195   7.70549    1        1        2   \n",
      "mean_nb_article_facture     4339  256.314   1325.94    1       93   161.75   \n",
      "mean_somme_par_facture      4339  419.048   1796.32    0  178.505   293.69   \n",
      "mean_nb_categorie_facture   4339  22.1866   20.2995    1    9.475       17   \n",
      "mean_somme_par_article      4339  3.01317   33.2145    0  1.40799  1.80868   \n",
      "ecart_moy_2_achats          4339  156.052   153.976    0       31       63   \n",
      "ecart_min_2_achats          4339  156.745   161.614    0        8       62   \n",
      "ecart_max_2_achats          4339  196.008   136.192    0       74      149   \n",
      "day_of_week                 4339  2.54091   1.44577    0        2        2   \n",
      "valeur_facture_1            4339  425.558      1290    0   167.08   301.11   \n",
      "interval_jour_achat_n1      4339  4.51717     3.818    0        1        4   \n",
      "interval_moyenne_horaire    4339  1.80203  0.532256    0        1        2   \n",
      "interval_heure_achat_n1     4339  1.77207  0.627768    0        1        2   \n",
      "labels                      4339  7.87025   5.36823    0        3        8   \n",
      "\n",
      "                                 6        7  \n",
      "index                          75%      max  \n",
      "somme_total                1661.64   280206  \n",
      "nb_article_total               993   197491  \n",
      "nb_categorie_total             100     7847  \n",
      "nb_factures                      5      210  \n",
      "mean_nb_article_facture        272    74215  \n",
      "mean_somme_par_facture     430.022  84236.2  \n",
      "mean_nb_categorie_facture    28.25  300.647  \n",
      "mean_somme_par_article     2.35165   2033.1  \n",
      "ecart_moy_2_achats             365      365  \n",
      "ecart_min_2_achats             365      365  \n",
      "ecart_max_2_achats             365      365  \n",
      "day_of_week                      3        6  \n",
      "valeur_facture_1            449.41  77183.6  \n",
      "interval_jour_achat_n1           8       12  \n",
      "interval_moyenne_horaire         2        4  \n",
      "interval_heure_achat_n1          2        4  \n",
      "labels                          10       19  \n"
     ]
    }
   ],
   "source": [
    "donnees_manquantes(df_num, \"missing_data_2\")"
   ]
  },
  {
   "cell_type": "markdown",
   "metadata": {},
   "source": [
    "Exportation du dataset créé"
   ]
  },
  {
   "cell_type": "code",
   "execution_count": 44,
   "metadata": {},
   "outputs": [],
   "source": [
    "# Export\n",
    "df_num.to_csv('C:\\\\Users\\\\Toni\\\\Desktop\\\\dataset_p5.csv')"
   ]
  }
 ],
 "metadata": {
  "kernelspec": {
   "display_name": "Python 3",
   "language": "python",
   "name": "python3"
  },
  "language_info": {
   "codemirror_mode": {
    "name": "ipython",
    "version": 3
   },
   "file_extension": ".py",
   "mimetype": "text/x-python",
   "name": "python",
   "nbconvert_exporter": "python",
   "pygments_lexer": "ipython3",
   "version": "3.6.2"
  }
 },
 "nbformat": 4,
 "nbformat_minor": 2
}
